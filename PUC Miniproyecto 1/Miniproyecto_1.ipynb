{
 "cells": [
  {
   "cell_type": "markdown",
   "metadata": {},
   "source": [
    "Miniproyecto 1\n",
    "=============="
   ]
  },
  {
   "cell_type": "markdown",
   "metadata": {},
   "source": [
    "### 1.- Lectura y análisis exploratorio de datos"
   ]
  },
  {
   "cell_type": "code",
   "execution_count": 1,
   "metadata": {},
   "outputs": [
    {
     "data": {
      "text/html": [
       "<div>\n",
       "<style scoped>\n",
       "    .dataframe tbody tr th:only-of-type {\n",
       "        vertical-align: middle;\n",
       "    }\n",
       "\n",
       "    .dataframe tbody tr th {\n",
       "        vertical-align: top;\n",
       "    }\n",
       "\n",
       "    .dataframe thead th {\n",
       "        text-align: right;\n",
       "    }\n",
       "</style>\n",
       "<table border=\"1\" class=\"dataframe\">\n",
       "  <thead>\n",
       "    <tr style=\"text-align: right;\">\n",
       "      <th></th>\n",
       "      <th>ID</th>\n",
       "      <th>Nombre</th>\n",
       "      <th>2016</th>\n",
       "      <th>2017</th>\n",
       "      <th>Crecimiento</th>\n",
       "      <th>Unidades</th>\n",
       "      <th>fecha</th>\n",
       "      <th>Activo</th>\n",
       "    </tr>\n",
       "  </thead>\n",
       "  <tbody>\n",
       "    <tr>\n",
       "      <th>0</th>\n",
       "      <td>10002</td>\n",
       "      <td>Verde Mar</td>\n",
       "      <td>$125,000.00</td>\n",
       "      <td>$162500.00</td>\n",
       "      <td>30.00%</td>\n",
       "      <td>500</td>\n",
       "      <td>1-10-2015</td>\n",
       "      <td>1</td>\n",
       "    </tr>\n",
       "    <tr>\n",
       "      <th>1</th>\n",
       "      <td>552278</td>\n",
       "      <td>Manantial sa</td>\n",
       "      <td>$920,000.00</td>\n",
       "      <td>$101,2000.00</td>\n",
       "      <td>10.00%</td>\n",
       "      <td>700</td>\n",
       "      <td>6-23-2014</td>\n",
       "      <td>0</td>\n",
       "    </tr>\n",
       "    <tr>\n",
       "      <th>2</th>\n",
       "      <td>23477</td>\n",
       "      <td>ACME</td>\n",
       "      <td>$50,000.00</td>\n",
       "      <td>62500.00</td>\n",
       "      <td>25.00%</td>\n",
       "      <td>125</td>\n",
       "      <td>3-12-2016</td>\n",
       "      <td>1</td>\n",
       "    </tr>\n",
       "    <tr>\n",
       "      <th>3</th>\n",
       "      <td>24900</td>\n",
       "      <td>Andes sur</td>\n",
       "      <td>$350,000.00</td>\n",
       "      <td>490000.00</td>\n",
       "      <td>4.00%</td>\n",
       "      <td>75</td>\n",
       "      <td>10-28-2015</td>\n",
       "      <td>1</td>\n",
       "    </tr>\n",
       "    <tr>\n",
       "      <th>4</th>\n",
       "      <td>651029</td>\n",
       "      <td>San Pablo</td>\n",
       "      <td>$15,000.00</td>\n",
       "      <td>$12750.00</td>\n",
       "      <td>-15.00%</td>\n",
       "      <td>No</td>\n",
       "      <td>2-15-2014</td>\n",
       "      <td>0</td>\n",
       "    </tr>\n",
       "    <tr>\n",
       "      <th>5</th>\n",
       "      <td>651029</td>\n",
       "      <td>San Pablo</td>\n",
       "      <td>-$15,000.00</td>\n",
       "      <td>$ 12750.00</td>\n",
       "      <td>-15.00%</td>\n",
       "      <td>No</td>\n",
       "      <td>2-15-2014</td>\n",
       "      <td>n</td>\n",
       "    </tr>\n",
       "  </tbody>\n",
       "</table>\n",
       "</div>"
      ],
      "text/plain": [
       "       ID        Nombre         2016          2017 Crecimiento Unidades  \\\n",
       "0   10002     Verde Mar  $125,000.00    $162500.00      30.00%      500   \n",
       "1  552278  Manantial sa  $920,000.00  $101,2000.00      10.00%      700   \n",
       "2   23477          ACME   $50,000.00      62500.00      25.00%      125   \n",
       "3   24900     Andes sur  $350,000.00     490000.00       4.00%       75   \n",
       "4  651029     San Pablo   $15,000.00     $12750.00     -15.00%       No   \n",
       "5  651029     San Pablo  -$15,000.00    $ 12750.00     -15.00%       No   \n",
       "\n",
       "        fecha Activo  \n",
       "0   1-10-2015      1  \n",
       "1   6-23-2014      0  \n",
       "2   3-12-2016      1  \n",
       "3  10-28-2015      1  \n",
       "4   2-15-2014      0  \n",
       "5   2-15-2014      n  "
      ]
     },
     "execution_count": 1,
     "metadata": {},
     "output_type": "execute_result"
    }
   ],
   "source": [
    "import pandas as pd                                 #cargar la libreria pandas\n",
    "import numpy as np\n",
    "data_1 = pd.read_csv(\"ejemplo_data.csv\")            #cargar el dataset como data_1\n",
    "data_1                                              #inpeccionar elementos"
   ]
  },
  {
   "cell_type": "code",
   "execution_count": 2,
   "metadata": {},
   "outputs": [
    {
     "name": "stdout",
     "output_type": "stream",
     "text": [
      "<class 'pandas.core.frame.DataFrame'>\n",
      "RangeIndex: 6 entries, 0 to 5\n",
      "Data columns (total 8 columns):\n",
      " #   Column       Non-Null Count  Dtype \n",
      "---  ------       --------------  ----- \n",
      " 0   ID           6 non-null      int64 \n",
      " 1   Nombre       6 non-null      object\n",
      " 2   2016         6 non-null      object\n",
      " 3   2017         6 non-null      object\n",
      " 4   Crecimiento  6 non-null      object\n",
      " 5   Unidades     6 non-null      object\n",
      " 6   fecha        6 non-null      object\n",
      " 7   Activo       6 non-null      object\n",
      "dtypes: int64(1), object(7)\n",
      "memory usage: 512.0+ bytes\n"
     ]
    }
   ],
   "source": [
    "data_1.info()                                       #inpeccionar tipos de variables"
   ]
  },
  {
   "cell_type": "code",
   "execution_count": 3,
   "metadata": {},
   "outputs": [
    {
     "name": "stdout",
     "output_type": "stream",
     "text": [
      "<class 'pandas.core.series.Series'>\n",
      "RangeIndex: 6 entries, 0 to 5\n",
      "Series name: ID\n",
      "Non-Null Count  Dtype\n",
      "--------------  -----\n",
      "6 non-null      int64\n",
      "dtypes: int64(1)\n",
      "memory usage: 176.0 bytes\n"
     ]
    }
   ],
   "source": [
    "data_1[\"ID\"].info()                                 #la columna ID ya se encuentra comnvertida como entero en el dataset"
   ]
  },
  {
   "cell_type": "markdown",
   "metadata": {},
   "source": [
    ">* Se cambian los valores de la columna Activo a boleano, asumiendo de **n es un valor igual a 0**\n",
    ">* Se verifica que ademas estos valores corresponden a su variable boleana (1=True, 0=False)  \n",
    ">*El tipo de variable para Activo es boleana*"
   ]
  },
  {
   "cell_type": "code",
   "execution_count": 4,
   "metadata": {},
   "outputs": [],
   "source": [
    "data_1[\"Activo\"] = np.where(data_1[\"Activo\"] == \"1\", True, False)  # Indica que todos los valores igual a 1 son True y todos los demas False"
   ]
  },
  {
   "cell_type": "code",
   "execution_count": 5,
   "metadata": {},
   "outputs": [
    {
     "data": {
      "text/plain": [
       "0     True\n",
       "1    False\n",
       "2     True\n",
       "3     True\n",
       "4    False\n",
       "5    False\n",
       "Name: Activo, dtype: bool"
      ]
     },
     "execution_count": 5,
     "metadata": {},
     "output_type": "execute_result"
    }
   ],
   "source": [
    "data_1[\"Activo\"]"
   ]
  },
  {
   "cell_type": "markdown",
   "metadata": {},
   "source": [
    ">* Se procede a cambiar las variables de la columna Unidades a entero y se verifican los valores"
   ]
  },
  {
   "cell_type": "code",
   "execution_count": 6,
   "metadata": {},
   "outputs": [
    {
     "data": {
      "text/html": [
       "<div>\n",
       "<style scoped>\n",
       "    .dataframe tbody tr th:only-of-type {\n",
       "        vertical-align: middle;\n",
       "    }\n",
       "\n",
       "    .dataframe tbody tr th {\n",
       "        vertical-align: top;\n",
       "    }\n",
       "\n",
       "    .dataframe thead th {\n",
       "        text-align: right;\n",
       "    }\n",
       "</style>\n",
       "<table border=\"1\" class=\"dataframe\">\n",
       "  <thead>\n",
       "    <tr style=\"text-align: right;\">\n",
       "      <th></th>\n",
       "      <th>ID</th>\n",
       "      <th>Nombre</th>\n",
       "      <th>2016</th>\n",
       "      <th>2017</th>\n",
       "      <th>Crecimiento</th>\n",
       "      <th>Unidades</th>\n",
       "      <th>fecha</th>\n",
       "      <th>Activo</th>\n",
       "    </tr>\n",
       "  </thead>\n",
       "  <tbody>\n",
       "    <tr>\n",
       "      <th>0</th>\n",
       "      <td>10002</td>\n",
       "      <td>Verde Mar</td>\n",
       "      <td>$125,000.00</td>\n",
       "      <td>$162500.00</td>\n",
       "      <td>30.00%</td>\n",
       "      <td>500</td>\n",
       "      <td>1-10-2015</td>\n",
       "      <td>True</td>\n",
       "    </tr>\n",
       "    <tr>\n",
       "      <th>1</th>\n",
       "      <td>552278</td>\n",
       "      <td>Manantial sa</td>\n",
       "      <td>$920,000.00</td>\n",
       "      <td>$101,2000.00</td>\n",
       "      <td>10.00%</td>\n",
       "      <td>700</td>\n",
       "      <td>6-23-2014</td>\n",
       "      <td>False</td>\n",
       "    </tr>\n",
       "    <tr>\n",
       "      <th>2</th>\n",
       "      <td>23477</td>\n",
       "      <td>ACME</td>\n",
       "      <td>$50,000.00</td>\n",
       "      <td>62500.00</td>\n",
       "      <td>25.00%</td>\n",
       "      <td>125</td>\n",
       "      <td>3-12-2016</td>\n",
       "      <td>True</td>\n",
       "    </tr>\n",
       "    <tr>\n",
       "      <th>3</th>\n",
       "      <td>24900</td>\n",
       "      <td>Andes sur</td>\n",
       "      <td>$350,000.00</td>\n",
       "      <td>490000.00</td>\n",
       "      <td>4.00%</td>\n",
       "      <td>75</td>\n",
       "      <td>10-28-2015</td>\n",
       "      <td>True</td>\n",
       "    </tr>\n",
       "    <tr>\n",
       "      <th>4</th>\n",
       "      <td>651029</td>\n",
       "      <td>San Pablo</td>\n",
       "      <td>$15,000.00</td>\n",
       "      <td>$12750.00</td>\n",
       "      <td>-15.00%</td>\n",
       "      <td>0</td>\n",
       "      <td>2-15-2014</td>\n",
       "      <td>False</td>\n",
       "    </tr>\n",
       "    <tr>\n",
       "      <th>5</th>\n",
       "      <td>651029</td>\n",
       "      <td>San Pablo</td>\n",
       "      <td>-$15,000.00</td>\n",
       "      <td>$ 12750.00</td>\n",
       "      <td>-15.00%</td>\n",
       "      <td>0</td>\n",
       "      <td>2-15-2014</td>\n",
       "      <td>False</td>\n",
       "    </tr>\n",
       "  </tbody>\n",
       "</table>\n",
       "</div>"
      ],
      "text/plain": [
       "       ID        Nombre         2016          2017 Crecimiento  Unidades  \\\n",
       "0   10002     Verde Mar  $125,000.00    $162500.00      30.00%       500   \n",
       "1  552278  Manantial sa  $920,000.00  $101,2000.00      10.00%       700   \n",
       "2   23477          ACME   $50,000.00      62500.00      25.00%       125   \n",
       "3   24900     Andes sur  $350,000.00     490000.00       4.00%        75   \n",
       "4  651029     San Pablo   $15,000.00     $12750.00     -15.00%         0   \n",
       "5  651029     San Pablo  -$15,000.00    $ 12750.00     -15.00%         0   \n",
       "\n",
       "        fecha  Activo  \n",
       "0   1-10-2015    True  \n",
       "1   6-23-2014   False  \n",
       "2   3-12-2016    True  \n",
       "3  10-28-2015    True  \n",
       "4   2-15-2014   False  \n",
       "5   2-15-2014   False  "
      ]
     },
     "execution_count": 6,
     "metadata": {},
     "output_type": "execute_result"
    }
   ],
   "source": [
    "data_1[\"Unidades\"] = pd.to_numeric(data_1['Unidades'], errors='coerce').fillna(0)\n",
    "data_1[\"Unidades\"] = data_1[\"Unidades\"].astype(\"int\")\n",
    "data_1\n"
   ]
  },
  {
   "cell_type": "code",
   "execution_count": 7,
   "metadata": {},
   "outputs": [
    {
     "data": {
      "text/plain": [
       "0    500\n",
       "1    700\n",
       "2    125\n",
       "3     75\n",
       "4      0\n",
       "5      0\n",
       "Name: Unidades, dtype: int32"
      ]
     },
     "execution_count": 7,
     "metadata": {},
     "output_type": "execute_result"
    }
   ],
   "source": [
    "data_1[\"Unidades\"]"
   ]
  },
  {
   "cell_type": "markdown",
   "metadata": {},
   "source": [
    ">* Cambiar la columna **2016** a float, mediante una funcion lambda que elimine los simbolos \"$\" y \",\" y ademas los transforme a float"
   ]
  },
  {
   "cell_type": "code",
   "execution_count": 8,
   "metadata": {},
   "outputs": [],
   "source": [
    "data_1[\"2016\"] = data_1[\"2016\"].apply(lambda x: x.replace('$', '').replace(',', '')).astype('float')"
   ]
  },
  {
   "cell_type": "code",
   "execution_count": 9,
   "metadata": {},
   "outputs": [
    {
     "data": {
      "text/plain": [
       "0    125000.0\n",
       "1    920000.0\n",
       "2     50000.0\n",
       "3    350000.0\n",
       "4     15000.0\n",
       "5    -15000.0\n",
       "Name: 2016, dtype: float64"
      ]
     },
     "execution_count": 9,
     "metadata": {},
     "output_type": "execute_result"
    }
   ],
   "source": [
    "data_1[\"2016\"]"
   ]
  },
  {
   "cell_type": "markdown",
   "metadata": {},
   "source": [
    "> * Vista de las variables final segun lo solicitado"
   ]
  },
  {
   "cell_type": "code",
   "execution_count": 10,
   "metadata": {},
   "outputs": [
    {
     "name": "stdout",
     "output_type": "stream",
     "text": [
      "<class 'pandas.core.frame.DataFrame'>\n",
      "RangeIndex: 6 entries, 0 to 5\n",
      "Data columns (total 8 columns):\n",
      " #   Column       Non-Null Count  Dtype  \n",
      "---  ------       --------------  -----  \n",
      " 0   ID           6 non-null      int64  \n",
      " 1   Nombre       6 non-null      object \n",
      " 2   2016         6 non-null      float64\n",
      " 3   2017         6 non-null      object \n",
      " 4   Crecimiento  6 non-null      object \n",
      " 5   Unidades     6 non-null      int32  \n",
      " 6   fecha        6 non-null      object \n",
      " 7   Activo       6 non-null      bool   \n",
      "dtypes: bool(1), float64(1), int32(1), int64(1), object(4)\n",
      "memory usage: 446.0+ bytes\n"
     ]
    }
   ],
   "source": [
    "data_1.info()"
   ]
  },
  {
   "cell_type": "markdown",
   "metadata": {},
   "source": [
    "### 2.- Estadísticas descriptivas"
   ]
  },
  {
   "cell_type": "markdown",
   "metadata": {},
   "source": [
    "> *  Cree un diccionario con 20 datos que contenga al menos dos atributos continuos y una variable categórica (por ejemplo: nombre, nota, edad).\n",
    "\n",
    "> (Estos datos corresponde a un extracto de la DB de eventos de huracanes, la que corresponden a nombre del huracan, año de erupcion y cantidad de fallecimientos en el evento.)"
   ]
  },
  {
   "cell_type": "code",
   "execution_count": 11,
   "metadata": {},
   "outputs": [],
   "source": [
    "dicc = {\n",
    "    \"Nombre\": pd.Series(['Cuba I', 'San Felipe II Okeechobee', 'Bahamas', 'Cuba II', 'CubaBrownsville', 'Tampico', 'Labor Day',\n",
    "        'New England', 'Carol', 'Janet', 'Carla', 'Hattie', 'Beulah', 'Camille', 'Edith', 'Anita', 'David', 'Allen', 'Gilbert', 'Hugo']),\n",
    "    \"Año\": pd.Series([1924, 1928, 1932, 1932, 1933, 1933, 1935, 1938, 1953, 1955, 1961, 1961, 1967, 1969, 1971, 1977, 1979, 1980,\n",
    "         1988, 1989]),\n",
    "    \"IndiceM\": pd.Series([90, 4000, 16, 3103, 179, 184, 408, 682, 5, 1023, 43, 319, 688, 259, 37, 11, 2068, 269, 318, 107])\n",
    "}"
   ]
  },
  {
   "cell_type": "markdown",
   "metadata": {},
   "source": [
    "> * Transforme dicho diccionario a un data frame de pandas."
   ]
  },
  {
   "cell_type": "code",
   "execution_count": 12,
   "metadata": {},
   "outputs": [
    {
     "name": "stdout",
     "output_type": "stream",
     "text": [
      "<class 'pandas.core.frame.DataFrame'>\n",
      "RangeIndex: 20 entries, 0 to 19\n",
      "Data columns (total 3 columns):\n",
      " #   Column   Non-Null Count  Dtype \n",
      "---  ------   --------------  ----- \n",
      " 0   Nombre   20 non-null     object\n",
      " 1   Año      20 non-null     int64 \n",
      " 2   IndiceM  20 non-null     int64 \n",
      "dtypes: int64(2), object(1)\n",
      "memory usage: 608.0+ bytes\n"
     ]
    }
   ],
   "source": [
    "df = pd.DataFrame(dicc)\n",
    "df.info()"
   ]
  },
  {
   "cell_type": "code",
   "execution_count": 13,
   "metadata": {},
   "outputs": [
    {
     "data": {
      "text/html": [
       "<div>\n",
       "<style scoped>\n",
       "    .dataframe tbody tr th:only-of-type {\n",
       "        vertical-align: middle;\n",
       "    }\n",
       "\n",
       "    .dataframe tbody tr th {\n",
       "        vertical-align: top;\n",
       "    }\n",
       "\n",
       "    .dataframe thead th {\n",
       "        text-align: right;\n",
       "    }\n",
       "</style>\n",
       "<table border=\"1\" class=\"dataframe\">\n",
       "  <thead>\n",
       "    <tr style=\"text-align: right;\">\n",
       "      <th></th>\n",
       "      <th>Nombre</th>\n",
       "      <th>Año</th>\n",
       "      <th>IndiceM</th>\n",
       "    </tr>\n",
       "  </thead>\n",
       "  <tbody>\n",
       "    <tr>\n",
       "      <th>0</th>\n",
       "      <td>Cuba I</td>\n",
       "      <td>1924</td>\n",
       "      <td>90</td>\n",
       "    </tr>\n",
       "    <tr>\n",
       "      <th>1</th>\n",
       "      <td>San Felipe II Okeechobee</td>\n",
       "      <td>1928</td>\n",
       "      <td>4000</td>\n",
       "    </tr>\n",
       "    <tr>\n",
       "      <th>2</th>\n",
       "      <td>Bahamas</td>\n",
       "      <td>1932</td>\n",
       "      <td>16</td>\n",
       "    </tr>\n",
       "    <tr>\n",
       "      <th>3</th>\n",
       "      <td>Cuba II</td>\n",
       "      <td>1932</td>\n",
       "      <td>3103</td>\n",
       "    </tr>\n",
       "    <tr>\n",
       "      <th>4</th>\n",
       "      <td>CubaBrownsville</td>\n",
       "      <td>1933</td>\n",
       "      <td>179</td>\n",
       "    </tr>\n",
       "  </tbody>\n",
       "</table>\n",
       "</div>"
      ],
      "text/plain": [
       "                     Nombre   Año  IndiceM\n",
       "0                    Cuba I  1924       90\n",
       "1  San Felipe II Okeechobee  1928     4000\n",
       "2                   Bahamas  1932       16\n",
       "3                   Cuba II  1932     3103\n",
       "4           CubaBrownsville  1933      179"
      ]
     },
     "execution_count": 13,
     "metadata": {},
     "output_type": "execute_result"
    }
   ],
   "source": [
    "df.head()"
   ]
  },
  {
   "cell_type": "markdown",
   "metadata": {},
   "source": [
    "> * Obtenga estadísticas descriptivas de tendencia central."
   ]
  },
  {
   "cell_type": "code",
   "execution_count": 14,
   "metadata": {},
   "outputs": [
    {
     "data": {
      "text/html": [
       "<div>\n",
       "<style scoped>\n",
       "    .dataframe tbody tr th:only-of-type {\n",
       "        vertical-align: middle;\n",
       "    }\n",
       "\n",
       "    .dataframe tbody tr th {\n",
       "        vertical-align: top;\n",
       "    }\n",
       "\n",
       "    .dataframe thead th {\n",
       "        text-align: right;\n",
       "    }\n",
       "</style>\n",
       "<table border=\"1\" class=\"dataframe\">\n",
       "  <thead>\n",
       "    <tr style=\"text-align: right;\">\n",
       "      <th></th>\n",
       "      <th>Nombre</th>\n",
       "      <th>Año</th>\n",
       "      <th>IndiceM</th>\n",
       "    </tr>\n",
       "  </thead>\n",
       "  <tbody>\n",
       "    <tr>\n",
       "      <th>count</th>\n",
       "      <td>20</td>\n",
       "      <td>20.000000</td>\n",
       "      <td>20.000000</td>\n",
       "    </tr>\n",
       "    <tr>\n",
       "      <th>unique</th>\n",
       "      <td>20</td>\n",
       "      <td>NaN</td>\n",
       "      <td>NaN</td>\n",
       "    </tr>\n",
       "    <tr>\n",
       "      <th>top</th>\n",
       "      <td>Cuba I</td>\n",
       "      <td>NaN</td>\n",
       "      <td>NaN</td>\n",
       "    </tr>\n",
       "    <tr>\n",
       "      <th>freq</th>\n",
       "      <td>1</td>\n",
       "      <td>NaN</td>\n",
       "      <td>NaN</td>\n",
       "    </tr>\n",
       "    <tr>\n",
       "      <th>mean</th>\n",
       "      <td>NaN</td>\n",
       "      <td>1955.250000</td>\n",
       "      <td>690.450000</td>\n",
       "    </tr>\n",
       "    <tr>\n",
       "      <th>std</th>\n",
       "      <td>NaN</td>\n",
       "      <td>21.771239</td>\n",
       "      <td>1099.130349</td>\n",
       "    </tr>\n",
       "    <tr>\n",
       "      <th>min</th>\n",
       "      <td>NaN</td>\n",
       "      <td>1924.000000</td>\n",
       "      <td>5.000000</td>\n",
       "    </tr>\n",
       "    <tr>\n",
       "      <th>25%</th>\n",
       "      <td>NaN</td>\n",
       "      <td>1933.000000</td>\n",
       "      <td>78.250000</td>\n",
       "    </tr>\n",
       "    <tr>\n",
       "      <th>50%</th>\n",
       "      <td>NaN</td>\n",
       "      <td>1958.000000</td>\n",
       "      <td>264.000000</td>\n",
       "    </tr>\n",
       "    <tr>\n",
       "      <th>75%</th>\n",
       "      <td>NaN</td>\n",
       "      <td>1972.500000</td>\n",
       "      <td>683.500000</td>\n",
       "    </tr>\n",
       "    <tr>\n",
       "      <th>max</th>\n",
       "      <td>NaN</td>\n",
       "      <td>1989.000000</td>\n",
       "      <td>4000.000000</td>\n",
       "    </tr>\n",
       "  </tbody>\n",
       "</table>\n",
       "</div>"
      ],
      "text/plain": [
       "        Nombre          Año      IndiceM\n",
       "count       20    20.000000    20.000000\n",
       "unique      20          NaN          NaN\n",
       "top     Cuba I          NaN          NaN\n",
       "freq         1          NaN          NaN\n",
       "mean       NaN  1955.250000   690.450000\n",
       "std        NaN    21.771239  1099.130349\n",
       "min        NaN  1924.000000     5.000000\n",
       "25%        NaN  1933.000000    78.250000\n",
       "50%        NaN  1958.000000   264.000000\n",
       "75%        NaN  1972.500000   683.500000\n",
       "max        NaN  1989.000000  4000.000000"
      ]
     },
     "execution_count": 14,
     "metadata": {},
     "output_type": "execute_result"
    }
   ],
   "source": [
    "df.describe(include=\"all\")"
   ]
  },
  {
   "cell_type": "markdown",
   "metadata": {},
   "source": [
    "* De acuerdo a la tabla descrita se puede inferir lo siguiente:\n",
    "    + Cantidad de datos por columna son *20*\n",
    "    + El promedio para **IndiceM** es *690.45*\n",
    "    + Desviacion estandar con respecto a los años que ocurrieron los eventos *21.77*\n",
    "    + La media de **IndiceM** corresponde a *264*\n",
    "    + Cantidad minima segun la DB de fallecimientos en en un evento es de *5*\n",
    "    + Cantidad maxima segun la DB de fallecimientos en en un evento es de *4000*\n",
    "    "
   ]
  },
  {
   "cell_type": "code",
   "execution_count": 15,
   "metadata": {},
   "outputs": [
    {
     "name": "stdout",
     "output_type": "stream",
     "text": [
      "Desviacion estandar para IndiceM:  1208087.52\n"
     ]
    }
   ],
   "source": [
    "# Calculo de varianza\n",
    "print(\"Desviacion estandar para IndiceM: \", np.round(np.var(df[\"IndiceM\"], ddof=1), 2))"
   ]
  },
  {
   "cell_type": "code",
   "execution_count": 16,
   "metadata": {},
   "outputs": [
    {
     "name": "stdout",
     "output_type": "stream",
     "text": [
      "         Año  IndiceM\n",
      "0.25  1933.0    78.25\n",
      "0.50  1958.0   264.00\n",
      "0.75  1972.5   683.50\n"
     ]
    }
   ],
   "source": [
    "cuantiles = df[[\"Año\", \"IndiceM\"]].quantile([0.25, 0.5, 0.75])\n",
    "print(cuantiles)"
   ]
  },
  {
   "cell_type": "code",
   "execution_count": 17,
   "metadata": {},
   "outputs": [
    {
     "data": {
      "image/png": "[encoded data removed]",
      "text/plain": [
       "<Figure size 432x288 with 1 Axes>"
      ]
     },
     "metadata": {
      "needs_background": "light"
     },
     "output_type": "display_data"
    }
   ],
   "source": [
    "# Boxplot para los cuantiles\n",
    "\n",
    "import matplotlib.pyplot as plt\n",
    "plt.boxplot(df[\"IndiceM\"])\n",
    "plt.title(\"Cuantiles para IndiceM\")\n",
    "plt.show()\n"
   ]
  },
  {
   "cell_type": "markdown",
   "metadata": {},
   "source": [
    ">* Se observa que para el boxplot existen 3 valores atipicos que corresponden a fallecimientos en un evento sobre las 2000 personas"
   ]
  },
  {
   "cell_type": "markdown",
   "metadata": {},
   "source": [
    "### 3.- Transformación e imputación de datos"
   ]
  },
  {
   "cell_type": "code",
   "execution_count": 18,
   "metadata": {},
   "outputs": [
    {
     "data": {
      "text/html": [
       "<div>\n",
       "<style scoped>\n",
       "    .dataframe tbody tr th:only-of-type {\n",
       "        vertical-align: middle;\n",
       "    }\n",
       "\n",
       "    .dataframe tbody tr th {\n",
       "        vertical-align: top;\n",
       "    }\n",
       "\n",
       "    .dataframe thead th {\n",
       "        text-align: right;\n",
       "    }\n",
       "</style>\n",
       "<table border=\"1\" class=\"dataframe\">\n",
       "  <thead>\n",
       "    <tr style=\"text-align: right;\">\n",
       "      <th></th>\n",
       "      <th>Suburb</th>\n",
       "      <th>Address</th>\n",
       "      <th>Rooms</th>\n",
       "      <th>Type</th>\n",
       "      <th>Price</th>\n",
       "      <th>Method</th>\n",
       "      <th>SellerG</th>\n",
       "      <th>Date</th>\n",
       "      <th>Distance</th>\n",
       "      <th>Postcode</th>\n",
       "      <th>...</th>\n",
       "      <th>Bathroom</th>\n",
       "      <th>Car</th>\n",
       "      <th>Landsize</th>\n",
       "      <th>BuildingArea</th>\n",
       "      <th>YearBuilt</th>\n",
       "      <th>CouncilArea</th>\n",
       "      <th>Lattitude</th>\n",
       "      <th>Longtitude</th>\n",
       "      <th>Regionname</th>\n",
       "      <th>Propertycount</th>\n",
       "    </tr>\n",
       "  </thead>\n",
       "  <tbody>\n",
       "    <tr>\n",
       "      <th>0</th>\n",
       "      <td>Abbotsford</td>\n",
       "      <td>85 Turner St</td>\n",
       "      <td>2</td>\n",
       "      <td>h</td>\n",
       "      <td>1480000.0</td>\n",
       "      <td>S</td>\n",
       "      <td>Biggin</td>\n",
       "      <td>3/12/2016</td>\n",
       "      <td>2.5</td>\n",
       "      <td>3067.0</td>\n",
       "      <td>...</td>\n",
       "      <td>1.0</td>\n",
       "      <td>1.0</td>\n",
       "      <td>202.0</td>\n",
       "      <td>NaN</td>\n",
       "      <td>NaN</td>\n",
       "      <td>Yarra</td>\n",
       "      <td>-37.7996</td>\n",
       "      <td>144.9984</td>\n",
       "      <td>Northern Metropolitan</td>\n",
       "      <td>4019.0</td>\n",
       "    </tr>\n",
       "    <tr>\n",
       "      <th>1</th>\n",
       "      <td>Abbotsford</td>\n",
       "      <td>25 Bloomburg St</td>\n",
       "      <td>2</td>\n",
       "      <td>h</td>\n",
       "      <td>1035000.0</td>\n",
       "      <td>S</td>\n",
       "      <td>Biggin</td>\n",
       "      <td>4/02/2016</td>\n",
       "      <td>2.5</td>\n",
       "      <td>3067.0</td>\n",
       "      <td>...</td>\n",
       "      <td>1.0</td>\n",
       "      <td>0.0</td>\n",
       "      <td>156.0</td>\n",
       "      <td>79.0</td>\n",
       "      <td>1900.0</td>\n",
       "      <td>Yarra</td>\n",
       "      <td>-37.8079</td>\n",
       "      <td>144.9934</td>\n",
       "      <td>Northern Metropolitan</td>\n",
       "      <td>4019.0</td>\n",
       "    </tr>\n",
       "    <tr>\n",
       "      <th>2</th>\n",
       "      <td>Abbotsford</td>\n",
       "      <td>5 Charles St</td>\n",
       "      <td>3</td>\n",
       "      <td>h</td>\n",
       "      <td>1465000.0</td>\n",
       "      <td>SP</td>\n",
       "      <td>Biggin</td>\n",
       "      <td>4/03/2017</td>\n",
       "      <td>2.5</td>\n",
       "      <td>3067.0</td>\n",
       "      <td>...</td>\n",
       "      <td>2.0</td>\n",
       "      <td>0.0</td>\n",
       "      <td>134.0</td>\n",
       "      <td>150.0</td>\n",
       "      <td>1900.0</td>\n",
       "      <td>Yarra</td>\n",
       "      <td>-37.8093</td>\n",
       "      <td>144.9944</td>\n",
       "      <td>Northern Metropolitan</td>\n",
       "      <td>4019.0</td>\n",
       "    </tr>\n",
       "    <tr>\n",
       "      <th>3</th>\n",
       "      <td>Abbotsford</td>\n",
       "      <td>40 Federation La</td>\n",
       "      <td>3</td>\n",
       "      <td>h</td>\n",
       "      <td>850000.0</td>\n",
       "      <td>PI</td>\n",
       "      <td>Biggin</td>\n",
       "      <td>4/03/2017</td>\n",
       "      <td>2.5</td>\n",
       "      <td>3067.0</td>\n",
       "      <td>...</td>\n",
       "      <td>2.0</td>\n",
       "      <td>1.0</td>\n",
       "      <td>94.0</td>\n",
       "      <td>NaN</td>\n",
       "      <td>NaN</td>\n",
       "      <td>Yarra</td>\n",
       "      <td>-37.7969</td>\n",
       "      <td>144.9969</td>\n",
       "      <td>Northern Metropolitan</td>\n",
       "      <td>4019.0</td>\n",
       "    </tr>\n",
       "    <tr>\n",
       "      <th>4</th>\n",
       "      <td>Abbotsford</td>\n",
       "      <td>55a Park St</td>\n",
       "      <td>4</td>\n",
       "      <td>h</td>\n",
       "      <td>1600000.0</td>\n",
       "      <td>VB</td>\n",
       "      <td>Nelson</td>\n",
       "      <td>4/06/2016</td>\n",
       "      <td>2.5</td>\n",
       "      <td>3067.0</td>\n",
       "      <td>...</td>\n",
       "      <td>1.0</td>\n",
       "      <td>2.0</td>\n",
       "      <td>120.0</td>\n",
       "      <td>142.0</td>\n",
       "      <td>2014.0</td>\n",
       "      <td>Yarra</td>\n",
       "      <td>-37.8072</td>\n",
       "      <td>144.9941</td>\n",
       "      <td>Northern Metropolitan</td>\n",
       "      <td>4019.0</td>\n",
       "    </tr>\n",
       "  </tbody>\n",
       "</table>\n",
       "<p>5 rows × 21 columns</p>\n",
       "</div>"
      ],
      "text/plain": [
       "       Suburb           Address  Rooms Type      Price Method SellerG  \\\n",
       "0  Abbotsford      85 Turner St      2    h  1480000.0      S  Biggin   \n",
       "1  Abbotsford   25 Bloomburg St      2    h  1035000.0      S  Biggin   \n",
       "2  Abbotsford      5 Charles St      3    h  1465000.0     SP  Biggin   \n",
       "3  Abbotsford  40 Federation La      3    h   850000.0     PI  Biggin   \n",
       "4  Abbotsford       55a Park St      4    h  1600000.0     VB  Nelson   \n",
       "\n",
       "        Date  Distance  Postcode  ...  Bathroom  Car  Landsize  BuildingArea  \\\n",
       "0  3/12/2016       2.5    3067.0  ...       1.0  1.0     202.0           NaN   \n",
       "1  4/02/2016       2.5    3067.0  ...       1.0  0.0     156.0          79.0   \n",
       "2  4/03/2017       2.5    3067.0  ...       2.0  0.0     134.0         150.0   \n",
       "3  4/03/2017       2.5    3067.0  ...       2.0  1.0      94.0           NaN   \n",
       "4  4/06/2016       2.5    3067.0  ...       1.0  2.0     120.0         142.0   \n",
       "\n",
       "   YearBuilt  CouncilArea Lattitude  Longtitude             Regionname  \\\n",
       "0        NaN        Yarra  -37.7996    144.9984  Northern Metropolitan   \n",
       "1     1900.0        Yarra  -37.8079    144.9934  Northern Metropolitan   \n",
       "2     1900.0        Yarra  -37.8093    144.9944  Northern Metropolitan   \n",
       "3        NaN        Yarra  -37.7969    144.9969  Northern Metropolitan   \n",
       "4     2014.0        Yarra  -37.8072    144.9941  Northern Metropolitan   \n",
       "\n",
       "  Propertycount  \n",
       "0        4019.0  \n",
       "1        4019.0  \n",
       "2        4019.0  \n",
       "3        4019.0  \n",
       "4        4019.0  \n",
       "\n",
       "[5 rows x 21 columns]"
      ]
     },
     "execution_count": 18,
     "metadata": {},
     "output_type": "execute_result"
    }
   ],
   "source": [
    "data_2 = pd.read_csv(\"ejemplo_data2.csv\")            #cargar el dataset como data_2\n",
    "data_2.head()"
   ]
  },
  {
   "cell_type": "markdown",
   "metadata": {},
   "source": [
    "> * Informacion del dataset"
   ]
  },
  {
   "cell_type": "code",
   "execution_count": 19,
   "metadata": {},
   "outputs": [
    {
     "name": "stdout",
     "output_type": "stream",
     "text": [
      "<class 'pandas.core.frame.DataFrame'>\n",
      "RangeIndex: 13580 entries, 0 to 13579\n",
      "Data columns (total 21 columns):\n",
      " #   Column         Non-Null Count  Dtype  \n",
      "---  ------         --------------  -----  \n",
      " 0   Suburb         13580 non-null  object \n",
      " 1   Address        13580 non-null  object \n",
      " 2   Rooms          13580 non-null  int64  \n",
      " 3   Type           13580 non-null  object \n",
      " 4   Price          13580 non-null  float64\n",
      " 5   Method         13580 non-null  object \n",
      " 6   SellerG        13580 non-null  object \n",
      " 7   Date           13580 non-null  object \n",
      " 8   Distance       13580 non-null  float64\n",
      " 9   Postcode       13580 non-null  float64\n",
      " 10  Bedroom2       13580 non-null  float64\n",
      " 11  Bathroom       13580 non-null  float64\n",
      " 12  Car            13518 non-null  float64\n",
      " 13  Landsize       13580 non-null  float64\n",
      " 14  BuildingArea   7130 non-null   float64\n",
      " 15  YearBuilt      8205 non-null   float64\n",
      " 16  CouncilArea    12211 non-null  object \n",
      " 17  Lattitude      13580 non-null  float64\n",
      " 18  Longtitude     13580 non-null  float64\n",
      " 19  Regionname     13580 non-null  object \n",
      " 20  Propertycount  13580 non-null  float64\n",
      "dtypes: float64(12), int64(1), object(8)\n",
      "memory usage: 2.2+ MB\n"
     ]
    }
   ],
   "source": [
    "data_2.info()"
   ]
  },
  {
   "cell_type": "code",
   "execution_count": 20,
   "metadata": {},
   "outputs": [
    {
     "data": {
      "text/html": [
       "<div>\n",
       "<style scoped>\n",
       "    .dataframe tbody tr th:only-of-type {\n",
       "        vertical-align: middle;\n",
       "    }\n",
       "\n",
       "    .dataframe tbody tr th {\n",
       "        vertical-align: top;\n",
       "    }\n",
       "\n",
       "    .dataframe thead th {\n",
       "        text-align: right;\n",
       "    }\n",
       "</style>\n",
       "<table border=\"1\" class=\"dataframe\">\n",
       "  <thead>\n",
       "    <tr style=\"text-align: right;\">\n",
       "      <th></th>\n",
       "      <th>Rooms</th>\n",
       "      <th>Price</th>\n",
       "      <th>Distance</th>\n",
       "      <th>Postcode</th>\n",
       "      <th>Bedroom2</th>\n",
       "      <th>Bathroom</th>\n",
       "      <th>Car</th>\n",
       "      <th>Landsize</th>\n",
       "      <th>BuildingArea</th>\n",
       "      <th>YearBuilt</th>\n",
       "      <th>Lattitude</th>\n",
       "      <th>Longtitude</th>\n",
       "      <th>Propertycount</th>\n",
       "    </tr>\n",
       "  </thead>\n",
       "  <tbody>\n",
       "    <tr>\n",
       "      <th>count</th>\n",
       "      <td>13580.000</td>\n",
       "      <td>13580.000</td>\n",
       "      <td>13580.000</td>\n",
       "      <td>13580.000</td>\n",
       "      <td>13580.000</td>\n",
       "      <td>13580.000</td>\n",
       "      <td>13518.000</td>\n",
       "      <td>13580.000</td>\n",
       "      <td>7130.000</td>\n",
       "      <td>8205.000</td>\n",
       "      <td>13580.000</td>\n",
       "      <td>13580.000</td>\n",
       "      <td>13580.000</td>\n",
       "    </tr>\n",
       "    <tr>\n",
       "      <th>mean</th>\n",
       "      <td>2.938</td>\n",
       "      <td>1075684.079</td>\n",
       "      <td>10.138</td>\n",
       "      <td>3105.302</td>\n",
       "      <td>2.915</td>\n",
       "      <td>1.534</td>\n",
       "      <td>1.610</td>\n",
       "      <td>558.416</td>\n",
       "      <td>151.968</td>\n",
       "      <td>1964.684</td>\n",
       "      <td>-37.809</td>\n",
       "      <td>144.995</td>\n",
       "      <td>7454.417</td>\n",
       "    </tr>\n",
       "    <tr>\n",
       "      <th>std</th>\n",
       "      <td>0.956</td>\n",
       "      <td>639310.724</td>\n",
       "      <td>5.869</td>\n",
       "      <td>90.677</td>\n",
       "      <td>0.966</td>\n",
       "      <td>0.692</td>\n",
       "      <td>0.963</td>\n",
       "      <td>3990.669</td>\n",
       "      <td>541.015</td>\n",
       "      <td>37.274</td>\n",
       "      <td>0.079</td>\n",
       "      <td>0.104</td>\n",
       "      <td>4378.582</td>\n",
       "    </tr>\n",
       "    <tr>\n",
       "      <th>min</th>\n",
       "      <td>1.000</td>\n",
       "      <td>85000.000</td>\n",
       "      <td>0.000</td>\n",
       "      <td>3000.000</td>\n",
       "      <td>0.000</td>\n",
       "      <td>0.000</td>\n",
       "      <td>0.000</td>\n",
       "      <td>0.000</td>\n",
       "      <td>0.000</td>\n",
       "      <td>1196.000</td>\n",
       "      <td>-38.183</td>\n",
       "      <td>144.432</td>\n",
       "      <td>249.000</td>\n",
       "    </tr>\n",
       "    <tr>\n",
       "      <th>25%</th>\n",
       "      <td>2.000</td>\n",
       "      <td>650000.000</td>\n",
       "      <td>6.100</td>\n",
       "      <td>3044.000</td>\n",
       "      <td>2.000</td>\n",
       "      <td>1.000</td>\n",
       "      <td>1.000</td>\n",
       "      <td>177.000</td>\n",
       "      <td>93.000</td>\n",
       "      <td>1940.000</td>\n",
       "      <td>-37.857</td>\n",
       "      <td>144.930</td>\n",
       "      <td>4380.000</td>\n",
       "    </tr>\n",
       "    <tr>\n",
       "      <th>50%</th>\n",
       "      <td>3.000</td>\n",
       "      <td>903000.000</td>\n",
       "      <td>9.200</td>\n",
       "      <td>3084.000</td>\n",
       "      <td>3.000</td>\n",
       "      <td>1.000</td>\n",
       "      <td>2.000</td>\n",
       "      <td>440.000</td>\n",
       "      <td>126.000</td>\n",
       "      <td>1970.000</td>\n",
       "      <td>-37.802</td>\n",
       "      <td>145.000</td>\n",
       "      <td>6555.000</td>\n",
       "    </tr>\n",
       "    <tr>\n",
       "      <th>75%</th>\n",
       "      <td>3.000</td>\n",
       "      <td>1330000.000</td>\n",
       "      <td>13.000</td>\n",
       "      <td>3148.000</td>\n",
       "      <td>3.000</td>\n",
       "      <td>2.000</td>\n",
       "      <td>2.000</td>\n",
       "      <td>651.000</td>\n",
       "      <td>174.000</td>\n",
       "      <td>1999.000</td>\n",
       "      <td>-37.756</td>\n",
       "      <td>145.058</td>\n",
       "      <td>10331.000</td>\n",
       "    </tr>\n",
       "    <tr>\n",
       "      <th>max</th>\n",
       "      <td>10.000</td>\n",
       "      <td>9000000.000</td>\n",
       "      <td>48.100</td>\n",
       "      <td>3977.000</td>\n",
       "      <td>20.000</td>\n",
       "      <td>8.000</td>\n",
       "      <td>10.000</td>\n",
       "      <td>433014.000</td>\n",
       "      <td>44515.000</td>\n",
       "      <td>2018.000</td>\n",
       "      <td>-37.409</td>\n",
       "      <td>145.526</td>\n",
       "      <td>21650.000</td>\n",
       "    </tr>\n",
       "  </tbody>\n",
       "</table>\n",
       "</div>"
      ],
      "text/plain": [
       "           Rooms        Price   Distance   Postcode   Bedroom2   Bathroom  \\\n",
       "count  13580.000    13580.000  13580.000  13580.000  13580.000  13580.000   \n",
       "mean       2.938  1075684.079     10.138   3105.302      2.915      1.534   \n",
       "std        0.956   639310.724      5.869     90.677      0.966      0.692   \n",
       "min        1.000    85000.000      0.000   3000.000      0.000      0.000   \n",
       "25%        2.000   650000.000      6.100   3044.000      2.000      1.000   \n",
       "50%        3.000   903000.000      9.200   3084.000      3.000      1.000   \n",
       "75%        3.000  1330000.000     13.000   3148.000      3.000      2.000   \n",
       "max       10.000  9000000.000     48.100   3977.000     20.000      8.000   \n",
       "\n",
       "             Car    Landsize BuildingArea YearBuilt  Lattitude Longtitude  \\\n",
       "count  13518.000   13580.000     7130.000  8205.000  13580.000  13580.000   \n",
       "mean       1.610     558.416      151.968  1964.684    -37.809    144.995   \n",
       "std        0.963    3990.669      541.015    37.274      0.079      0.104   \n",
       "min        0.000       0.000        0.000  1196.000    -38.183    144.432   \n",
       "25%        1.000     177.000       93.000  1940.000    -37.857    144.930   \n",
       "50%        2.000     440.000      126.000  1970.000    -37.802    145.000   \n",
       "75%        2.000     651.000      174.000  1999.000    -37.756    145.058   \n",
       "max       10.000  433014.000    44515.000  2018.000    -37.409    145.526   \n",
       "\n",
       "      Propertycount  \n",
       "count     13580.000  \n",
       "mean       7454.417  \n",
       "std        4378.582  \n",
       "min         249.000  \n",
       "25%        4380.000  \n",
       "50%        6555.000  \n",
       "75%       10331.000  \n",
       "max       21650.000  "
      ]
     },
     "execution_count": 20,
     "metadata": {},
     "output_type": "execute_result"
    }
   ],
   "source": [
    "data_2.describe().applymap(lambda x:f\"{x:0.3f}\")       #applymap permite ver describe en DB con solo 3 decimales"
   ]
  },
  {
   "cell_type": "markdown",
   "metadata": {},
   "source": [
    "> * Verificar cuantos valores nulos estan presentes en el dataset"
   ]
  },
  {
   "cell_type": "code",
   "execution_count": 21,
   "metadata": {},
   "outputs": [
    {
     "data": {
      "text/plain": [
       "Suburb              0\n",
       "Address             0\n",
       "Rooms               0\n",
       "Type                0\n",
       "Price               0\n",
       "Method              0\n",
       "SellerG             0\n",
       "Date                0\n",
       "Distance            0\n",
       "Postcode            0\n",
       "Bedroom2            0\n",
       "Bathroom            0\n",
       "Car                62\n",
       "Landsize            0\n",
       "BuildingArea     6450\n",
       "YearBuilt        5375\n",
       "CouncilArea      1369\n",
       "Lattitude           0\n",
       "Longtitude          0\n",
       "Regionname          0\n",
       "Propertycount       0\n",
       "dtype: int64"
      ]
     },
     "execution_count": 21,
     "metadata": {},
     "output_type": "execute_result"
    }
   ],
   "source": [
    "data_2.isnull().sum()"
   ]
  },
  {
   "cell_type": "code",
   "execution_count": 22,
   "metadata": {},
   "outputs": [
    {
     "name": "stdout",
     "output_type": "stream",
     "text": [
      "[ 1.  0.  2.  6.  5.  4.  3.  8.  7.  9. 10. nan]\n"
     ]
    }
   ],
   "source": [
    "print(data_2[\"Car\"].unique())               # valores unicos para Car."
   ]
  },
  {
   "cell_type": "code",
   "execution_count": 23,
   "metadata": {},
   "outputs": [
    {
     "name": "stdout",
     "output_type": "stream",
     "text": [
      "144\n"
     ]
    }
   ],
   "source": [
    "print(data_2[\"YearBuilt\"].nunique())        # Cantidad de valores unicos para YearBuilt."
   ]
  },
  {
   "cell_type": "code",
   "execution_count": 24,
   "metadata": {},
   "outputs": [
    {
     "name": "stdout",
     "output_type": "stream",
     "text": [
      "['Yarra' 'Moonee Valley' 'Port Phillip' 'Darebin' 'Hobsons Bay'\n",
      " 'Stonnington' 'Boroondara' 'Monash' 'Glen Eira' 'Whitehorse'\n",
      " 'Maribyrnong' 'Bayside' 'Moreland' 'Manningham' 'Banyule' 'Melbourne'\n",
      " 'Kingston' 'Brimbank' 'Hume' nan 'Knox' 'Maroondah' 'Casey' 'Melton'\n",
      " 'Greater Dandenong' 'Nillumbik' 'Whittlesea' 'Frankston' 'Macedon Ranges'\n",
      " 'Yarra Ranges' 'Wyndham' 'Cardinia' 'Unavailable' 'Moorabool']\n"
     ]
    }
   ],
   "source": [
    "print(data_2[\"CouncilArea\"].unique())       # Serie para las categorias dentro de CouncilArea."
   ]
  },
  {
   "cell_type": "markdown",
   "metadata": {},
   "source": [
    "* De acuerdo al diagnostico, tenemos 4 variables que presentan datos faltantes:\n",
    "    + __Car__ que puede corresponder a la cantidad de espacios de vehiculos en la vivienda, al ser categorico, con pocos valores unicos y de pocos faltantes en el DB, se puede estudiar con mas detalle.\n",
    "    + __BuildingArea__ con una cantidad importante de faltantes, es necesario encontrar un metodo para rellenar y no perder estos datos, se observa que estan presentes datos atipicos importantes dentro de la variable con respecto a su media.\n",
    "    + __YearBuilt__ Año de contruccion de la vivienda, cantidad importante de faltantes tomada como categorica, abarca un rango de 143 valores para los años mas NaN.\n",
    "    + __CouncilArea__ Variable categorica que indica su ubicacion dentro del consejo, con 33 valores unicos."
   ]
  },
  {
   "cell_type": "markdown",
   "metadata": {},
   "source": [
    "> * __Para BuildingArea__ se procede a probar a rellenar los valores faltantes con el _promedio, mediana, backfill y ffill_ y compararlos con la distribucion original."
   ]
  },
  {
   "cell_type": "code",
   "execution_count": 25,
   "metadata": {},
   "outputs": [
    {
     "name": "stdout",
     "output_type": "stream",
     "text": [
      "count    13580.000000\n",
      "mean       151.967650\n",
      "std        392.002962\n",
      "min          0.000000\n",
      "25%        122.000000\n",
      "50%        151.967650\n",
      "75%        151.967650\n",
      "max      44515.000000\n",
      "Name: BuildingArea, dtype: float64\n",
      "count     7130.000000\n",
      "mean       151.967650\n",
      "std        541.014538\n",
      "min          0.000000\n",
      "25%         93.000000\n",
      "50%        126.000000\n",
      "75%        174.000000\n",
      "max      44515.000000\n",
      "Name: BuildingArea, dtype: float64\n"
     ]
    }
   ],
   "source": [
    "mean = data_2.BuildingArea.mean()\n",
    "print(data_2.BuildingArea.fillna(mean).describe())\n",
    "print(data_2.BuildingArea.describe())"
   ]
  },
  {
   "cell_type": "code",
   "execution_count": 26,
   "metadata": {},
   "outputs": [
    {
     "name": "stdout",
     "output_type": "stream",
     "text": [
      "count    13580.000000\n",
      "mean       139.633972\n",
      "std        392.217403\n",
      "min          0.000000\n",
      "25%        122.000000\n",
      "50%        126.000000\n",
      "75%        129.940000\n",
      "max      44515.000000\n",
      "Name: BuildingArea, dtype: float64\n",
      "count     7130.000000\n",
      "mean       151.967650\n",
      "std        541.014538\n",
      "min          0.000000\n",
      "25%         93.000000\n",
      "50%        126.000000\n",
      "75%        174.000000\n",
      "max      44515.000000\n",
      "Name: BuildingArea, dtype: float64\n"
     ]
    }
   ],
   "source": [
    "median = data_2.BuildingArea.median()\n",
    "print(data_2.BuildingArea.fillna(median).describe())\n",
    "print(data_2.BuildingArea.describe())"
   ]
  },
  {
   "cell_type": "markdown",
   "metadata": {},
   "source": [
    "> * Para los metodos de fillna con la media y la mediana, en ambos casos la desviacion estandar es similar, sin embargo, el promedio difiere en 20 unidades para fillna con la mediana y los cuantiles con fillna en la media estan mas uniformes por sobre el 50% de los datos."
   ]
  },
  {
   "cell_type": "code",
   "execution_count": 27,
   "metadata": {},
   "outputs": [
    {
     "name": "stdout",
     "output_type": "stream",
     "text": [
      "count    13580.000000\n",
      "mean       150.233190\n",
      "std        396.886937\n",
      "min          0.000000\n",
      "25%         94.000000\n",
      "50%        127.000000\n",
      "75%        176.000000\n",
      "max      44515.000000\n",
      "Name: BuildingArea, dtype: float64\n",
      "count     7130.000000\n",
      "mean       151.967650\n",
      "std        541.014538\n",
      "min          0.000000\n",
      "25%         93.000000\n",
      "50%        126.000000\n",
      "75%        174.000000\n",
      "max      44515.000000\n",
      "Name: BuildingArea, dtype: float64\n"
     ]
    }
   ],
   "source": [
    "data_fillb = data_2.BuildingArea.fillna(method=\"backfill\")\n",
    "print(data_fillb.describe())\n",
    "print(data_2.BuildingArea.describe())"
   ]
  },
  {
   "cell_type": "code",
   "execution_count": 28,
   "metadata": {},
   "outputs": [
    {
     "name": "stdout",
     "output_type": "stream",
     "text": [
      "count    13579.000000\n",
      "mean       150.035168\n",
      "std        399.065345\n",
      "min          0.000000\n",
      "25%         94.000000\n",
      "50%        127.000000\n",
      "75%        175.000000\n",
      "max      44515.000000\n",
      "Name: BuildingArea, dtype: float64\n",
      "count     7130.000000\n",
      "mean       151.967650\n",
      "std        541.014538\n",
      "min          0.000000\n",
      "25%         93.000000\n",
      "50%        126.000000\n",
      "75%        174.000000\n",
      "max      44515.000000\n",
      "Name: BuildingArea, dtype: float64\n"
     ]
    }
   ],
   "source": [
    "data_fillf = data_2.BuildingArea.fillna(method=\"ffill\")\n",
    "print(data_fillf.describe())\n",
    "print(data_2.BuildingArea.describe())"
   ]
  },
  {
   "cell_type": "markdown",
   "metadata": {},
   "source": [
    "> * Para los casos con fillna por backfill y ffill, en ambos casos la distribucion se mantiene similar a la original, destacando que para fillna con ffill se omite el ultimo dato considerando las caracteristicas del metodo."
   ]
  },
  {
   "cell_type": "markdown",
   "metadata": {},
   "source": [
    "> * Se procede a tratar de codificar numericamente para analisis la variable _CouncilArea_, sin embargo, se considera no rellenar los datos faltantes ya que se necesita un analisis cruzado de acuerdo a la ubicacion descrita con los datos disponibles por lo que no es posible asumir los datos faltantes a mi consideracion."
   ]
  },
  {
   "cell_type": "code",
   "execution_count": 29,
   "metadata": {},
   "outputs": [
    {
     "data": {
      "text/plain": [
       "count        12211\n",
       "unique          33\n",
       "top       Moreland\n",
       "freq          1163\n",
       "Name: CouncilArea, dtype: object"
      ]
     },
     "execution_count": 29,
     "metadata": {},
     "output_type": "execute_result"
    }
   ],
   "source": [
    "data_2[\"CouncilArea\"].describe()"
   ]
  },
  {
   "cell_type": "markdown",
   "metadata": {},
   "source": [
    "> * Como se dijo anteriormente existen 33 categorias unicas para la variable _CouncilArea_, se tratara de esta manera un __OHE (One-Hot Encoding)__ para cada categoria. Esto producira una matriz numerica de [13580 x 33] valores."
   ]
  },
  {
   "cell_type": "code",
   "execution_count": 30,
   "metadata": {},
   "outputs": [
    {
     "name": "stdout",
     "output_type": "stream",
     "text": [
      "   Banyule  Bayside  Boroondara  Brimbank  Cardinia  Casey  Darebin  \\\n",
      "0        0        0           0         0         0      0        0   \n",
      "1        0        0           0         0         0      0        0   \n",
      "2        0        0           0         0         0      0        0   \n",
      "3        0        0           0         0         0      0        0   \n",
      "4        0        0           0         0         0      0        0   \n",
      "\n",
      "   Frankston  Glen Eira  Greater Dandenong  ...  Moreland  Nillumbik  \\\n",
      "0          0          0                  0  ...         0          0   \n",
      "1          0          0                  0  ...         0          0   \n",
      "2          0          0                  0  ...         0          0   \n",
      "3          0          0                  0  ...         0          0   \n",
      "4          0          0                  0  ...         0          0   \n",
      "\n",
      "   Port Phillip  Stonnington  Unavailable  Whitehorse  Whittlesea  Wyndham  \\\n",
      "0             0            0            0           0           0        0   \n",
      "1             0            0            0           0           0        0   \n",
      "2             0            0            0           0           0        0   \n",
      "3             0            0            0           0           0        0   \n",
      "4             0            0            0           0           0        0   \n",
      "\n",
      "   Yarra  Yarra Ranges  \n",
      "0      1             0  \n",
      "1      1             0  \n",
      "2      1             0  \n",
      "3      1             0  \n",
      "4      1             0  \n",
      "\n",
      "[5 rows x 33 columns]\n"
     ]
    }
   ],
   "source": [
    "council = data_2[\"CouncilArea\"]\n",
    "cat_council = pd.get_dummies(council)\n",
    "print(cat_council.head())"
   ]
  },
  {
   "cell_type": "code",
   "execution_count": 31,
   "metadata": {},
   "outputs": [
    {
     "name": "stdout",
     "output_type": "stream",
     "text": [
      "<class 'pandas.core.frame.DataFrame'>\n",
      "RangeIndex: 13580 entries, 0 to 13579\n",
      "Data columns (total 33 columns):\n",
      " #   Column             Non-Null Count  Dtype\n",
      "---  ------             --------------  -----\n",
      " 0   Banyule            13580 non-null  uint8\n",
      " 1   Bayside            13580 non-null  uint8\n",
      " 2   Boroondara         13580 non-null  uint8\n",
      " 3   Brimbank           13580 non-null  uint8\n",
      " 4   Cardinia           13580 non-null  uint8\n",
      " 5   Casey              13580 non-null  uint8\n",
      " 6   Darebin            13580 non-null  uint8\n",
      " 7   Frankston          13580 non-null  uint8\n",
      " 8   Glen Eira          13580 non-null  uint8\n",
      " 9   Greater Dandenong  13580 non-null  uint8\n",
      " 10  Hobsons Bay        13580 non-null  uint8\n",
      " 11  Hume               13580 non-null  uint8\n",
      " 12  Kingston           13580 non-null  uint8\n",
      " 13  Knox               13580 non-null  uint8\n",
      " 14  Macedon Ranges     13580 non-null  uint8\n",
      " 15  Manningham         13580 non-null  uint8\n",
      " 16  Maribyrnong        13580 non-null  uint8\n",
      " 17  Maroondah          13580 non-null  uint8\n",
      " 18  Melbourne          13580 non-null  uint8\n",
      " 19  Melton             13580 non-null  uint8\n",
      " 20  Monash             13580 non-null  uint8\n",
      " 21  Moonee Valley      13580 non-null  uint8\n",
      " 22  Moorabool          13580 non-null  uint8\n",
      " 23  Moreland           13580 non-null  uint8\n",
      " 24  Nillumbik          13580 non-null  uint8\n",
      " 25  Port Phillip       13580 non-null  uint8\n",
      " 26  Stonnington        13580 non-null  uint8\n",
      " 27  Unavailable        13580 non-null  uint8\n",
      " 28  Whitehorse         13580 non-null  uint8\n",
      " 29  Whittlesea         13580 non-null  uint8\n",
      " 30  Wyndham            13580 non-null  uint8\n",
      " 31  Yarra              13580 non-null  uint8\n",
      " 32  Yarra Ranges       13580 non-null  uint8\n",
      "dtypes: uint8(33)\n",
      "memory usage: 437.8 KB\n"
     ]
    }
   ],
   "source": [
    "cat_council.info()"
   ]
  },
  {
   "cell_type": "markdown",
   "metadata": {},
   "source": [
    "> * Se procede a transformar las variables categoricas del DB segun el metodo __OHE__"
   ]
  },
  {
   "cell_type": "code",
   "execution_count": 32,
   "metadata": {},
   "outputs": [
    {
     "data": {
      "text/html": [
       "<div>\n",
       "<style scoped>\n",
       "    .dataframe tbody tr th:only-of-type {\n",
       "        vertical-align: middle;\n",
       "    }\n",
       "\n",
       "    .dataframe tbody tr th {\n",
       "        vertical-align: top;\n",
       "    }\n",
       "\n",
       "    .dataframe thead th {\n",
       "        text-align: right;\n",
       "    }\n",
       "</style>\n",
       "<table border=\"1\" class=\"dataframe\">\n",
       "  <thead>\n",
       "    <tr style=\"text-align: right;\">\n",
       "      <th></th>\n",
       "      <th>Suburb</th>\n",
       "      <th>Address</th>\n",
       "      <th>Type</th>\n",
       "      <th>Method</th>\n",
       "      <th>SellerG</th>\n",
       "      <th>CouncilArea</th>\n",
       "      <th>Regionname</th>\n",
       "    </tr>\n",
       "  </thead>\n",
       "  <tbody>\n",
       "    <tr>\n",
       "      <th>0</th>\n",
       "      <td>Abbotsford</td>\n",
       "      <td>85 Turner St</td>\n",
       "      <td>h</td>\n",
       "      <td>S</td>\n",
       "      <td>Biggin</td>\n",
       "      <td>Yarra</td>\n",
       "      <td>Northern Metropolitan</td>\n",
       "    </tr>\n",
       "    <tr>\n",
       "      <th>1</th>\n",
       "      <td>Abbotsford</td>\n",
       "      <td>25 Bloomburg St</td>\n",
       "      <td>h</td>\n",
       "      <td>S</td>\n",
       "      <td>Biggin</td>\n",
       "      <td>Yarra</td>\n",
       "      <td>Northern Metropolitan</td>\n",
       "    </tr>\n",
       "    <tr>\n",
       "      <th>2</th>\n",
       "      <td>Abbotsford</td>\n",
       "      <td>5 Charles St</td>\n",
       "      <td>h</td>\n",
       "      <td>SP</td>\n",
       "      <td>Biggin</td>\n",
       "      <td>Yarra</td>\n",
       "      <td>Northern Metropolitan</td>\n",
       "    </tr>\n",
       "    <tr>\n",
       "      <th>3</th>\n",
       "      <td>Abbotsford</td>\n",
       "      <td>40 Federation La</td>\n",
       "      <td>h</td>\n",
       "      <td>PI</td>\n",
       "      <td>Biggin</td>\n",
       "      <td>Yarra</td>\n",
       "      <td>Northern Metropolitan</td>\n",
       "    </tr>\n",
       "    <tr>\n",
       "      <th>4</th>\n",
       "      <td>Abbotsford</td>\n",
       "      <td>55a Park St</td>\n",
       "      <td>h</td>\n",
       "      <td>VB</td>\n",
       "      <td>Nelson</td>\n",
       "      <td>Yarra</td>\n",
       "      <td>Northern Metropolitan</td>\n",
       "    </tr>\n",
       "  </tbody>\n",
       "</table>\n",
       "</div>"
      ],
      "text/plain": [
       "       Suburb           Address Type Method SellerG CouncilArea  \\\n",
       "0  Abbotsford      85 Turner St    h      S  Biggin       Yarra   \n",
       "1  Abbotsford   25 Bloomburg St    h      S  Biggin       Yarra   \n",
       "2  Abbotsford      5 Charles St    h     SP  Biggin       Yarra   \n",
       "3  Abbotsford  40 Federation La    h     PI  Biggin       Yarra   \n",
       "4  Abbotsford       55a Park St    h     VB  Nelson       Yarra   \n",
       "\n",
       "              Regionname  \n",
       "0  Northern Metropolitan  \n",
       "1  Northern Metropolitan  \n",
       "2  Northern Metropolitan  \n",
       "3  Northern Metropolitan  \n",
       "4  Northern Metropolitan  "
      ]
     },
     "execution_count": 32,
     "metadata": {},
     "output_type": "execute_result"
    }
   ],
   "source": [
    "data_cat = pd.DataFrame(list(zip(data_2[\"Suburb\"], data_2[\"Address\"],data_2[\"Type\"], data_2[\"Method\"], data_2[\"SellerG\"], data_2[\"CouncilArea\"], data_2[\"Regionname\"]))\n",
    ", columns =[\"Suburb\", \"Address\", \"Type\", \"Method\", \"SellerG\", \"CouncilArea\", \"Regionname\"]) \n",
    "data_cat.head()"
   ]
  },
  {
   "cell_type": "code",
   "execution_count": 33,
   "metadata": {},
   "outputs": [
    {
     "data": {
      "text/plain": [
       "(13580, 14010)"
      ]
     },
     "execution_count": 33,
     "metadata": {},
     "output_type": "execute_result"
    }
   ],
   "source": [
    "from sklearn.preprocessing import OneHotEncoder\n",
    "\n",
    "encoder = OneHotEncoder()\n",
    "data_cat_oneHot = encoder.fit_transform(data_cat)\n",
    "array_data_cat = data_cat_oneHot.toarray()\n",
    "array_data_cat.shape\n"
   ]
  },
  {
   "cell_type": "markdown",
   "metadata": {},
   "source": [
    "### 4.- Visualizacion de Datos"
   ]
  },
  {
   "cell_type": "code",
   "execution_count": 34,
   "metadata": {},
   "outputs": [],
   "source": [
    "# importar librerias solicitadas\n",
    "import seaborn as sns\n",
    "import pandas as pd\n",
    "import matplotlib.pyplot as plt"
   ]
  },
  {
   "cell_type": "markdown",
   "metadata": {},
   "source": [
    "> * Creacion de base de datos con numpy.random.multivariate_normal"
   ]
  },
  {
   "cell_type": "code",
   "execution_count": 35,
   "metadata": {},
   "outputs": [],
   "source": [
    "mean = (9,2)\n",
    "cov = [[1,0], [0,1]]\n",
    "db1 = np.random.multivariate_normal(mean, cov, 500)\n",
    "db1 = np.hstack([db1, np.zeros((db1.shape[0], 1))])\n"
   ]
  },
  {
   "cell_type": "code",
   "execution_count": 36,
   "metadata": {},
   "outputs": [
    {
     "data": {
      "text/html": [
       "<div>\n",
       "<style scoped>\n",
       "    .dataframe tbody tr th:only-of-type {\n",
       "        vertical-align: middle;\n",
       "    }\n",
       "\n",
       "    .dataframe tbody tr th {\n",
       "        vertical-align: top;\n",
       "    }\n",
       "\n",
       "    .dataframe thead th {\n",
       "        text-align: right;\n",
       "    }\n",
       "</style>\n",
       "<table border=\"1\" class=\"dataframe\">\n",
       "  <thead>\n",
       "    <tr style=\"text-align: right;\">\n",
       "      <th></th>\n",
       "      <th>A</th>\n",
       "      <th>B</th>\n",
       "      <th>C</th>\n",
       "    </tr>\n",
       "  </thead>\n",
       "  <tbody>\n",
       "    <tr>\n",
       "      <th>0</th>\n",
       "      <td>8.559896</td>\n",
       "      <td>1.787952</td>\n",
       "      <td>0.0</td>\n",
       "    </tr>\n",
       "    <tr>\n",
       "      <th>1</th>\n",
       "      <td>8.386475</td>\n",
       "      <td>2.601031</td>\n",
       "      <td>0.0</td>\n",
       "    </tr>\n",
       "    <tr>\n",
       "      <th>2</th>\n",
       "      <td>9.166229</td>\n",
       "      <td>3.027869</td>\n",
       "      <td>0.0</td>\n",
       "    </tr>\n",
       "    <tr>\n",
       "      <th>3</th>\n",
       "      <td>9.530867</td>\n",
       "      <td>2.127744</td>\n",
       "      <td>0.0</td>\n",
       "    </tr>\n",
       "    <tr>\n",
       "      <th>4</th>\n",
       "      <td>10.300775</td>\n",
       "      <td>2.241551</td>\n",
       "      <td>0.0</td>\n",
       "    </tr>\n",
       "    <tr>\n",
       "      <th>...</th>\n",
       "      <td>...</td>\n",
       "      <td>...</td>\n",
       "      <td>...</td>\n",
       "    </tr>\n",
       "    <tr>\n",
       "      <th>495</th>\n",
       "      <td>9.516895</td>\n",
       "      <td>0.912313</td>\n",
       "      <td>0.0</td>\n",
       "    </tr>\n",
       "    <tr>\n",
       "      <th>496</th>\n",
       "      <td>9.117138</td>\n",
       "      <td>1.849747</td>\n",
       "      <td>0.0</td>\n",
       "    </tr>\n",
       "    <tr>\n",
       "      <th>497</th>\n",
       "      <td>9.412854</td>\n",
       "      <td>1.844975</td>\n",
       "      <td>0.0</td>\n",
       "    </tr>\n",
       "    <tr>\n",
       "      <th>498</th>\n",
       "      <td>9.893524</td>\n",
       "      <td>0.820709</td>\n",
       "      <td>0.0</td>\n",
       "    </tr>\n",
       "    <tr>\n",
       "      <th>499</th>\n",
       "      <td>9.403268</td>\n",
       "      <td>1.350337</td>\n",
       "      <td>0.0</td>\n",
       "    </tr>\n",
       "  </tbody>\n",
       "</table>\n",
       "<p>500 rows × 3 columns</p>\n",
       "</div>"
      ],
      "text/plain": [
       "             A         B    C\n",
       "0     8.559896  1.787952  0.0\n",
       "1     8.386475  2.601031  0.0\n",
       "2     9.166229  3.027869  0.0\n",
       "3     9.530867  2.127744  0.0\n",
       "4    10.300775  2.241551  0.0\n",
       "..         ...       ...  ...\n",
       "495   9.516895  0.912313  0.0\n",
       "496   9.117138  1.849747  0.0\n",
       "497   9.412854  1.844975  0.0\n",
       "498   9.893524  0.820709  0.0\n",
       "499   9.403268  1.350337  0.0\n",
       "\n",
       "[500 rows x 3 columns]"
      ]
     },
     "execution_count": 36,
     "metadata": {},
     "output_type": "execute_result"
    }
   ],
   "source": [
    "db1 = pd.DataFrame(db1, columns = [\"A\", \"B\", \"C\"])\n",
    "db1"
   ]
  },
  {
   "cell_type": "code",
   "execution_count": 37,
   "metadata": {},
   "outputs": [
    {
     "data": {
      "text/plain": [
       "array([[1.00592129, 0.00468125, 0.        ],\n",
       "       [0.00468125, 1.03923679, 0.        ],\n",
       "       [0.        , 0.        , 0.        ]])"
      ]
     },
     "execution_count": 37,
     "metadata": {},
     "output_type": "execute_result"
    }
   ],
   "source": [
    "np.cov(db1.T)                                               # Matriz de covarianza simetrica y positiva"
   ]
  },
  {
   "cell_type": "code",
   "execution_count": 38,
   "metadata": {},
   "outputs": [],
   "source": [
    "mean = (5,1)\n",
    "cov = [[1,0], [0,1]]\n",
    "db2 = np.random.multivariate_normal(mean, cov, 500)\n",
    "db2 = np.hstack([db2, np.ones((db2.shape[0], 1))])"
   ]
  },
  {
   "cell_type": "code",
   "execution_count": 39,
   "metadata": {},
   "outputs": [
    {
     "data": {
      "text/html": [
       "<div>\n",
       "<style scoped>\n",
       "    .dataframe tbody tr th:only-of-type {\n",
       "        vertical-align: middle;\n",
       "    }\n",
       "\n",
       "    .dataframe tbody tr th {\n",
       "        vertical-align: top;\n",
       "    }\n",
       "\n",
       "    .dataframe thead th {\n",
       "        text-align: right;\n",
       "    }\n",
       "</style>\n",
       "<table border=\"1\" class=\"dataframe\">\n",
       "  <thead>\n",
       "    <tr style=\"text-align: right;\">\n",
       "      <th></th>\n",
       "      <th>A</th>\n",
       "      <th>B</th>\n",
       "      <th>C</th>\n",
       "    </tr>\n",
       "  </thead>\n",
       "  <tbody>\n",
       "    <tr>\n",
       "      <th>0</th>\n",
       "      <td>5.598137</td>\n",
       "      <td>1.420767</td>\n",
       "      <td>1.0</td>\n",
       "    </tr>\n",
       "    <tr>\n",
       "      <th>1</th>\n",
       "      <td>4.966346</td>\n",
       "      <td>1.970450</td>\n",
       "      <td>1.0</td>\n",
       "    </tr>\n",
       "    <tr>\n",
       "      <th>2</th>\n",
       "      <td>3.569788</td>\n",
       "      <td>-0.175749</td>\n",
       "      <td>1.0</td>\n",
       "    </tr>\n",
       "    <tr>\n",
       "      <th>3</th>\n",
       "      <td>5.145692</td>\n",
       "      <td>-0.194703</td>\n",
       "      <td>1.0</td>\n",
       "    </tr>\n",
       "    <tr>\n",
       "      <th>4</th>\n",
       "      <td>3.477748</td>\n",
       "      <td>1.358550</td>\n",
       "      <td>1.0</td>\n",
       "    </tr>\n",
       "    <tr>\n",
       "      <th>...</th>\n",
       "      <td>...</td>\n",
       "      <td>...</td>\n",
       "      <td>...</td>\n",
       "    </tr>\n",
       "    <tr>\n",
       "      <th>495</th>\n",
       "      <td>3.954701</td>\n",
       "      <td>-0.714857</td>\n",
       "      <td>1.0</td>\n",
       "    </tr>\n",
       "    <tr>\n",
       "      <th>496</th>\n",
       "      <td>6.873772</td>\n",
       "      <td>0.158382</td>\n",
       "      <td>1.0</td>\n",
       "    </tr>\n",
       "    <tr>\n",
       "      <th>497</th>\n",
       "      <td>3.329777</td>\n",
       "      <td>-1.295057</td>\n",
       "      <td>1.0</td>\n",
       "    </tr>\n",
       "    <tr>\n",
       "      <th>498</th>\n",
       "      <td>4.480748</td>\n",
       "      <td>0.551451</td>\n",
       "      <td>1.0</td>\n",
       "    </tr>\n",
       "    <tr>\n",
       "      <th>499</th>\n",
       "      <td>5.491200</td>\n",
       "      <td>-0.317488</td>\n",
       "      <td>1.0</td>\n",
       "    </tr>\n",
       "  </tbody>\n",
       "</table>\n",
       "<p>500 rows × 3 columns</p>\n",
       "</div>"
      ],
      "text/plain": [
       "            A         B    C\n",
       "0    5.598137  1.420767  1.0\n",
       "1    4.966346  1.970450  1.0\n",
       "2    3.569788 -0.175749  1.0\n",
       "3    5.145692 -0.194703  1.0\n",
       "4    3.477748  1.358550  1.0\n",
       "..        ...       ...  ...\n",
       "495  3.954701 -0.714857  1.0\n",
       "496  6.873772  0.158382  1.0\n",
       "497  3.329777 -1.295057  1.0\n",
       "498  4.480748  0.551451  1.0\n",
       "499  5.491200 -0.317488  1.0\n",
       "\n",
       "[500 rows x 3 columns]"
      ]
     },
     "execution_count": 39,
     "metadata": {},
     "output_type": "execute_result"
    }
   ],
   "source": [
    "db2 = pd.DataFrame(db2, columns = [\"A\", \"B\", \"C\"])\n",
    "db2"
   ]
  },
  {
   "cell_type": "code",
   "execution_count": 40,
   "metadata": {},
   "outputs": [
    {
     "data": {
      "text/plain": [
       "array([[1.01242657, 0.0810198 , 0.        ],\n",
       "       [0.0810198 , 1.07391726, 0.        ],\n",
       "       [0.        , 0.        , 0.        ]])"
      ]
     },
     "execution_count": 40,
     "metadata": {},
     "output_type": "execute_result"
    }
   ],
   "source": [
    "np.cov(db2.T)                                                   # Matriz de covarianza simetrica y positiva"
   ]
  },
  {
   "cell_type": "code",
   "execution_count": 41,
   "metadata": {},
   "outputs": [
    {
     "name": "stderr",
     "output_type": "stream",
     "text": [
      "C:\\Users\\felip\\AppData\\Local\\Programs\\Python\\Python39\\lib\\site-packages\\seaborn\\distributions.py:2619: FutureWarning: `distplot` is a deprecated function and will be removed in a future version. Please adapt your code to use either `displot` (a figure-level function with similar flexibility) or `histplot` (an axes-level function for histograms).\n",
      "  warnings.warn(msg, FutureWarning)\n"
     ]
    },
    {
     "data": {
      "image/png": "[encoded data removed]",
      "text/plain": [
       "<Figure size 432x288 with 1 Axes>"
      ]
     },
     "metadata": {
      "needs_background": "light"
     },
     "output_type": "display_data"
    }
   ],
   "source": [
    "sns.distplot(db1, bins=30)\n",
    "sns.despine(left=True, bottom=True)                             # modifica la visualizacion de los bordes de los ejes dentro del grafico\n",
    "sns.set_context(\"talk\", font_scale =.3)\n",
    "sns.set_palette(\"dark\")"
   ]
  },
  {
   "cell_type": "markdown",
   "metadata": {},
   "source": [
    "> * Generar grafico de dispersion para las bases de datos "
   ]
  },
  {
   "cell_type": "code",
   "execution_count": 42,
   "metadata": {},
   "outputs": [
    {
     "data": {
      "text/html": [
       "<div>\n",
       "<style scoped>\n",
       "    .dataframe tbody tr th:only-of-type {\n",
       "        vertical-align: middle;\n",
       "    }\n",
       "\n",
       "    .dataframe tbody tr th {\n",
       "        vertical-align: top;\n",
       "    }\n",
       "\n",
       "    .dataframe thead th {\n",
       "        text-align: right;\n",
       "    }\n",
       "</style>\n",
       "<table border=\"1\" class=\"dataframe\">\n",
       "  <thead>\n",
       "    <tr style=\"text-align: right;\">\n",
       "      <th></th>\n",
       "      <th>A</th>\n",
       "      <th>B</th>\n",
       "      <th>C</th>\n",
       "    </tr>\n",
       "  </thead>\n",
       "  <tbody>\n",
       "    <tr>\n",
       "      <th>0</th>\n",
       "      <td>8.559896</td>\n",
       "      <td>1.787952</td>\n",
       "      <td>0.0</td>\n",
       "    </tr>\n",
       "    <tr>\n",
       "      <th>1</th>\n",
       "      <td>8.386475</td>\n",
       "      <td>2.601031</td>\n",
       "      <td>0.0</td>\n",
       "    </tr>\n",
       "    <tr>\n",
       "      <th>2</th>\n",
       "      <td>9.166229</td>\n",
       "      <td>3.027869</td>\n",
       "      <td>0.0</td>\n",
       "    </tr>\n",
       "    <tr>\n",
       "      <th>3</th>\n",
       "      <td>9.530867</td>\n",
       "      <td>2.127744</td>\n",
       "      <td>0.0</td>\n",
       "    </tr>\n",
       "    <tr>\n",
       "      <th>4</th>\n",
       "      <td>10.300775</td>\n",
       "      <td>2.241551</td>\n",
       "      <td>0.0</td>\n",
       "    </tr>\n",
       "    <tr>\n",
       "      <th>...</th>\n",
       "      <td>...</td>\n",
       "      <td>...</td>\n",
       "      <td>...</td>\n",
       "    </tr>\n",
       "    <tr>\n",
       "      <th>995</th>\n",
       "      <td>3.954701</td>\n",
       "      <td>-0.714857</td>\n",
       "      <td>1.0</td>\n",
       "    </tr>\n",
       "    <tr>\n",
       "      <th>996</th>\n",
       "      <td>6.873772</td>\n",
       "      <td>0.158382</td>\n",
       "      <td>1.0</td>\n",
       "    </tr>\n",
       "    <tr>\n",
       "      <th>997</th>\n",
       "      <td>3.329777</td>\n",
       "      <td>-1.295057</td>\n",
       "      <td>1.0</td>\n",
       "    </tr>\n",
       "    <tr>\n",
       "      <th>998</th>\n",
       "      <td>4.480748</td>\n",
       "      <td>0.551451</td>\n",
       "      <td>1.0</td>\n",
       "    </tr>\n",
       "    <tr>\n",
       "      <th>999</th>\n",
       "      <td>5.491200</td>\n",
       "      <td>-0.317488</td>\n",
       "      <td>1.0</td>\n",
       "    </tr>\n",
       "  </tbody>\n",
       "</table>\n",
       "<p>1000 rows × 3 columns</p>\n",
       "</div>"
      ],
      "text/plain": [
       "             A         B    C\n",
       "0     8.559896  1.787952  0.0\n",
       "1     8.386475  2.601031  0.0\n",
       "2     9.166229  3.027869  0.0\n",
       "3     9.530867  2.127744  0.0\n",
       "4    10.300775  2.241551  0.0\n",
       "..         ...       ...  ...\n",
       "995   3.954701 -0.714857  1.0\n",
       "996   6.873772  0.158382  1.0\n",
       "997   3.329777 -1.295057  1.0\n",
       "998   4.480748  0.551451  1.0\n",
       "999   5.491200 -0.317488  1.0\n",
       "\n",
       "[1000 rows x 3 columns]"
      ]
     },
     "execution_count": 42,
     "metadata": {},
     "output_type": "execute_result"
    }
   ],
   "source": [
    "# Concatenar ambos DB en un dataframe\n",
    "ct_data = np.concatenate([db1, db2])\n",
    "ct_data = pd.DataFrame(ct_data, columns=[\"A\", \"B\", \"C\"])\n",
    "ct_data"
   ]
  },
  {
   "cell_type": "code",
   "execution_count": 43,
   "metadata": {},
   "outputs": [
    {
     "data": {
      "image/png": "[encoded data removed]",
      "text/plain": [
       "<Figure size 432x432 with 3 Axes>"
      ]
     },
     "metadata": {
      "needs_background": "light"
     },
     "output_type": "display_data"
    }
   ],
   "source": [
    "sns.jointplot(x=\"A\", y=\"B\", data=ct_data, hue=\"C\", kind=\"kde\")\n",
    "sns.set_context(\"talk\", font_scale =.6)                         # Context cambia el tamaño del grafico y modifica el tamaño de fuente\n",
    "sns.set_palette(\"deep\")                                         # modifica la paleta de colores del grafico"
   ]
  },
  {
   "cell_type": "code",
   "execution_count": 44,
   "metadata": {},
   "outputs": [
    {
     "data": {
      "image/png": "[encoded data removed]",
      "text/plain": [
       "<Figure size 360x360 with 1 Axes>"
      ]
     },
     "metadata": {
      "needs_background": "light"
     },
     "output_type": "display_data"
    }
   ],
   "source": [
    "# Box-Plot por categorias\n",
    "sns.catplot(x=\"C\", y=\"A\", kind=\"box\", data= ct_data)\n",
    "sns.set_context(\"notebook\", font_scale =.6)    "
   ]
  }
 ],
 "metadata": {
  "interpreter": {
   "hash": "7c239c9e803aa87c3815454c42da92f1af28c0cbd1b711d488a058e58bc0122e"
  },
  "kernelspec": {
   "display_name": "Python 3.9.10 64-bit",
   "language": "python",
   "name": "python3"
  },
  "language_info": {
   "codemirror_mode": {
    "name": "ipython",
    "version": 3
   },
   "file_extension": ".py",
   "mimetype": "text/x-python",
   "name": "python",
   "nbconvert_exporter": "python",
   "pygments_lexer": "ipython3",
   "version": "3.9.10"
  },
  "orig_nbformat": 4
 },
 "nbformat": 4,
 "nbformat_minor": 2
}
