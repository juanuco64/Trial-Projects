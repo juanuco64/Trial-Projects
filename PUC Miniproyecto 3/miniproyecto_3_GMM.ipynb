{
 "cells": [
  {
   "cell_type": "markdown",
   "metadata": {},
   "source": [
    "### Análisis de clusters por GMM"
   ]
  },
  {
   "cell_type": "markdown",
   "metadata": {},
   "source": [
    "* Estudie el clasificador GMM desde las lecturas obligatorias de este módulo y use su implementación en Scikit-Learn.\n",
    "* Utilizando visualizaciones y métricas adecuadas, compare los resultados de K-means y GMM. Comente las principales ventajas de GMM respecto de Kmeans"
   ]
  },
  {
   "cell_type": "code",
   "execution_count": 1,
   "metadata": {},
   "outputs": [],
   "source": [
    "import pandas as pd\n",
    "import numpy as np\n",
    "from matplotlib import pyplot as plt\n",
    "from sklearn.cluster import KMeans\n",
    "\n",
    "from sklearn.preprocessing import StandardScaler    # Normalizacion de datos \n",
    "from sklearn.decomposition import PCA               # analisis de componentes principales"
   ]
  },
  {
   "cell_type": "markdown",
   "metadata": {},
   "source": [
    "* En este punto para efectos practicos, se procede de la misma manera anterior a la inspeccion de la base de datos."
   ]
  },
  {
   "cell_type": "code",
   "execution_count": 2,
   "metadata": {},
   "outputs": [
    {
     "data": {
      "text/html": [
       "<div>\n",
       "<style scoped>\n",
       "    .dataframe tbody tr th:only-of-type {\n",
       "        vertical-align: middle;\n",
       "    }\n",
       "\n",
       "    .dataframe tbody tr th {\n",
       "        vertical-align: top;\n",
       "    }\n",
       "\n",
       "    .dataframe thead th {\n",
       "        text-align: right;\n",
       "    }\n",
       "</style>\n",
       "<table border=\"1\" class=\"dataframe\">\n",
       "  <thead>\n",
       "    <tr style=\"text-align: right;\">\n",
       "      <th></th>\n",
       "      <th>Unnamed: 0</th>\n",
       "      <th>Amplitude</th>\n",
       "      <th>AndersonDarling</th>\n",
       "      <th>Autocor_length</th>\n",
       "      <th>Beyond1Std</th>\n",
       "      <th>Gskew</th>\n",
       "      <th>LinearTrend</th>\n",
       "      <th>MaxSlope</th>\n",
       "      <th>Mean</th>\n",
       "      <th>Meanvariance</th>\n",
       "      <th>MedianAbsDev</th>\n",
       "      <th>MedianBRP</th>\n",
       "      <th>PercentAmplitude</th>\n",
       "      <th>PeriodLS</th>\n",
       "    </tr>\n",
       "  </thead>\n",
       "  <tbody>\n",
       "    <tr>\n",
       "      <th>0</th>\n",
       "      <td>0</td>\n",
       "      <td>0.02700</td>\n",
       "      <td>0.000000</td>\n",
       "      <td>3</td>\n",
       "      <td>0.270000</td>\n",
       "      <td>0.019</td>\n",
       "      <td>-0.000007</td>\n",
       "      <td>0.130305</td>\n",
       "      <td>14.270917</td>\n",
       "      <td>0.000995</td>\n",
       "      <td>0.0090</td>\n",
       "      <td>0.533333</td>\n",
       "      <td>0.004906</td>\n",
       "      <td>17.880565</td>\n",
       "    </tr>\n",
       "    <tr>\n",
       "      <th>1</th>\n",
       "      <td>1</td>\n",
       "      <td>0.21400</td>\n",
       "      <td>0.000000</td>\n",
       "      <td>18</td>\n",
       "      <td>0.346667</td>\n",
       "      <td>0.126</td>\n",
       "      <td>0.000001</td>\n",
       "      <td>0.010560</td>\n",
       "      <td>13.696013</td>\n",
       "      <td>0.008650</td>\n",
       "      <td>0.0975</td>\n",
       "      <td>0.240000</td>\n",
       "      <td>0.026910</td>\n",
       "      <td>0.997859</td>\n",
       "    </tr>\n",
       "    <tr>\n",
       "      <th>2</th>\n",
       "      <td>2</td>\n",
       "      <td>0.27050</td>\n",
       "      <td>0.000000</td>\n",
       "      <td>1</td>\n",
       "      <td>0.223333</td>\n",
       "      <td>0.232</td>\n",
       "      <td>-0.000010</td>\n",
       "      <td>0.319591</td>\n",
       "      <td>19.368090</td>\n",
       "      <td>0.006736</td>\n",
       "      <td>0.0710</td>\n",
       "      <td>0.530000</td>\n",
       "      <td>0.027474</td>\n",
       "      <td>2.534404</td>\n",
       "    </tr>\n",
       "    <tr>\n",
       "      <th>3</th>\n",
       "      <td>3</td>\n",
       "      <td>0.34250</td>\n",
       "      <td>0.000000</td>\n",
       "      <td>13</td>\n",
       "      <td>0.396667</td>\n",
       "      <td>-0.017</td>\n",
       "      <td>-0.000090</td>\n",
       "      <td>0.664452</td>\n",
       "      <td>14.216857</td>\n",
       "      <td>0.013279</td>\n",
       "      <td>0.1515</td>\n",
       "      <td>0.250000</td>\n",
       "      <td>0.029652</td>\n",
       "      <td>117.161715</td>\n",
       "    </tr>\n",
       "    <tr>\n",
       "      <th>4</th>\n",
       "      <td>4</td>\n",
       "      <td>0.01075</td>\n",
       "      <td>0.097155</td>\n",
       "      <td>1</td>\n",
       "      <td>0.313830</td>\n",
       "      <td>-0.002</td>\n",
       "      <td>-0.000002</td>\n",
       "      <td>0.105675</td>\n",
       "      <td>13.609633</td>\n",
       "      <td>0.000410</td>\n",
       "      <td>0.0040</td>\n",
       "      <td>0.494681</td>\n",
       "      <td>0.001470</td>\n",
       "      <td>7.655264</td>\n",
       "    </tr>\n",
       "  </tbody>\n",
       "</table>\n",
       "</div>"
      ],
      "text/plain": [
       "   Unnamed: 0  Amplitude  AndersonDarling  Autocor_length  Beyond1Std  Gskew  \\\n",
       "0           0    0.02700         0.000000               3    0.270000  0.019   \n",
       "1           1    0.21400         0.000000              18    0.346667  0.126   \n",
       "2           2    0.27050         0.000000               1    0.223333  0.232   \n",
       "3           3    0.34250         0.000000              13    0.396667 -0.017   \n",
       "4           4    0.01075         0.097155               1    0.313830 -0.002   \n",
       "\n",
       "   LinearTrend  MaxSlope       Mean  Meanvariance  MedianAbsDev  MedianBRP  \\\n",
       "0    -0.000007  0.130305  14.270917      0.000995        0.0090   0.533333   \n",
       "1     0.000001  0.010560  13.696013      0.008650        0.0975   0.240000   \n",
       "2    -0.000010  0.319591  19.368090      0.006736        0.0710   0.530000   \n",
       "3    -0.000090  0.664452  14.216857      0.013279        0.1515   0.250000   \n",
       "4    -0.000002  0.105675  13.609633      0.000410        0.0040   0.494681   \n",
       "\n",
       "   PercentAmplitude    PeriodLS  \n",
       "0          0.004906   17.880565  \n",
       "1          0.026910    0.997859  \n",
       "2          0.027474    2.534404  \n",
       "3          0.029652  117.161715  \n",
       "4          0.001470    7.655264  "
      ]
     },
     "execution_count": 2,
     "metadata": {},
     "output_type": "execute_result"
    }
   ],
   "source": [
    "km2 = pd.read_csv(\"kmeans2.csv\")\n",
    "km2.head()      # inspeccion de los datos"
   ]
  },
  {
   "cell_type": "markdown",
   "metadata": {},
   "source": [
    "* Se Elimina la columna _Unnamed:0_ que indica de la misma manera los index de la tabla "
   ]
  },
  {
   "cell_type": "code",
   "execution_count": 3,
   "metadata": {},
   "outputs": [
    {
     "data": {
      "text/html": [
       "<div>\n",
       "<style scoped>\n",
       "    .dataframe tbody tr th:only-of-type {\n",
       "        vertical-align: middle;\n",
       "    }\n",
       "\n",
       "    .dataframe tbody tr th {\n",
       "        vertical-align: top;\n",
       "    }\n",
       "\n",
       "    .dataframe thead th {\n",
       "        text-align: right;\n",
       "    }\n",
       "</style>\n",
       "<table border=\"1\" class=\"dataframe\">\n",
       "  <thead>\n",
       "    <tr style=\"text-align: right;\">\n",
       "      <th></th>\n",
       "      <th>Amplitude</th>\n",
       "      <th>AndersonDarling</th>\n",
       "      <th>Autocor_length</th>\n",
       "      <th>Beyond1Std</th>\n",
       "      <th>Gskew</th>\n",
       "      <th>LinearTrend</th>\n",
       "      <th>MaxSlope</th>\n",
       "      <th>Mean</th>\n",
       "      <th>Meanvariance</th>\n",
       "      <th>MedianAbsDev</th>\n",
       "      <th>MedianBRP</th>\n",
       "      <th>PercentAmplitude</th>\n",
       "      <th>PeriodLS</th>\n",
       "    </tr>\n",
       "  </thead>\n",
       "  <tbody>\n",
       "    <tr>\n",
       "      <th>0</th>\n",
       "      <td>0.02700</td>\n",
       "      <td>0.000000</td>\n",
       "      <td>3</td>\n",
       "      <td>0.270000</td>\n",
       "      <td>0.019</td>\n",
       "      <td>-0.000007</td>\n",
       "      <td>0.130305</td>\n",
       "      <td>14.270917</td>\n",
       "      <td>0.000995</td>\n",
       "      <td>0.0090</td>\n",
       "      <td>0.533333</td>\n",
       "      <td>0.004906</td>\n",
       "      <td>17.880565</td>\n",
       "    </tr>\n",
       "    <tr>\n",
       "      <th>1</th>\n",
       "      <td>0.21400</td>\n",
       "      <td>0.000000</td>\n",
       "      <td>18</td>\n",
       "      <td>0.346667</td>\n",
       "      <td>0.126</td>\n",
       "      <td>0.000001</td>\n",
       "      <td>0.010560</td>\n",
       "      <td>13.696013</td>\n",
       "      <td>0.008650</td>\n",
       "      <td>0.0975</td>\n",
       "      <td>0.240000</td>\n",
       "      <td>0.026910</td>\n",
       "      <td>0.997859</td>\n",
       "    </tr>\n",
       "    <tr>\n",
       "      <th>2</th>\n",
       "      <td>0.27050</td>\n",
       "      <td>0.000000</td>\n",
       "      <td>1</td>\n",
       "      <td>0.223333</td>\n",
       "      <td>0.232</td>\n",
       "      <td>-0.000010</td>\n",
       "      <td>0.319591</td>\n",
       "      <td>19.368090</td>\n",
       "      <td>0.006736</td>\n",
       "      <td>0.0710</td>\n",
       "      <td>0.530000</td>\n",
       "      <td>0.027474</td>\n",
       "      <td>2.534404</td>\n",
       "    </tr>\n",
       "    <tr>\n",
       "      <th>3</th>\n",
       "      <td>0.34250</td>\n",
       "      <td>0.000000</td>\n",
       "      <td>13</td>\n",
       "      <td>0.396667</td>\n",
       "      <td>-0.017</td>\n",
       "      <td>-0.000090</td>\n",
       "      <td>0.664452</td>\n",
       "      <td>14.216857</td>\n",
       "      <td>0.013279</td>\n",
       "      <td>0.1515</td>\n",
       "      <td>0.250000</td>\n",
       "      <td>0.029652</td>\n",
       "      <td>117.161715</td>\n",
       "    </tr>\n",
       "    <tr>\n",
       "      <th>4</th>\n",
       "      <td>0.01075</td>\n",
       "      <td>0.097155</td>\n",
       "      <td>1</td>\n",
       "      <td>0.313830</td>\n",
       "      <td>-0.002</td>\n",
       "      <td>-0.000002</td>\n",
       "      <td>0.105675</td>\n",
       "      <td>13.609633</td>\n",
       "      <td>0.000410</td>\n",
       "      <td>0.0040</td>\n",
       "      <td>0.494681</td>\n",
       "      <td>0.001470</td>\n",
       "      <td>7.655264</td>\n",
       "    </tr>\n",
       "  </tbody>\n",
       "</table>\n",
       "</div>"
      ],
      "text/plain": [
       "   Amplitude  AndersonDarling  Autocor_length  Beyond1Std  Gskew  LinearTrend  \\\n",
       "0    0.02700         0.000000               3    0.270000  0.019    -0.000007   \n",
       "1    0.21400         0.000000              18    0.346667  0.126     0.000001   \n",
       "2    0.27050         0.000000               1    0.223333  0.232    -0.000010   \n",
       "3    0.34250         0.000000              13    0.396667 -0.017    -0.000090   \n",
       "4    0.01075         0.097155               1    0.313830 -0.002    -0.000002   \n",
       "\n",
       "   MaxSlope       Mean  Meanvariance  MedianAbsDev  MedianBRP  \\\n",
       "0  0.130305  14.270917      0.000995        0.0090   0.533333   \n",
       "1  0.010560  13.696013      0.008650        0.0975   0.240000   \n",
       "2  0.319591  19.368090      0.006736        0.0710   0.530000   \n",
       "3  0.664452  14.216857      0.013279        0.1515   0.250000   \n",
       "4  0.105675  13.609633      0.000410        0.0040   0.494681   \n",
       "\n",
       "   PercentAmplitude    PeriodLS  \n",
       "0          0.004906   17.880565  \n",
       "1          0.026910    0.997859  \n",
       "2          0.027474    2.534404  \n",
       "3          0.029652  117.161715  \n",
       "4          0.001470    7.655264  "
      ]
     },
     "execution_count": 3,
     "metadata": {},
     "output_type": "execute_result"
    }
   ],
   "source": [
    "km2 = km2.drop([\"Unnamed: 0\"], axis=1) \n",
    "km2.head()"
   ]
  },
  {
   "cell_type": "markdown",
   "metadata": {},
   "source": [
    "* Normalizacion de los datos con \"fit_transform\"\n",
    "* Se observa que la base de datos contiene 5000 datos con 13 features"
   ]
  },
  {
   "cell_type": "code",
   "execution_count": 4,
   "metadata": {},
   "outputs": [
    {
     "data": {
      "text/plain": [
       "(5000, 13)"
      ]
     },
     "execution_count": 4,
     "metadata": {},
     "output_type": "execute_result"
    }
   ],
   "source": [
    "norm = StandardScaler()\n",
    "k2_std = norm.fit_transform(km2)\n",
    "k2_std.shape"
   ]
  },
  {
   "cell_type": "markdown",
   "metadata": {},
   "source": [
    "* Se procede a una reduccion de dimensionalidad por PCA a 2 componentes "
   ]
  },
  {
   "cell_type": "code",
   "execution_count": 5,
   "metadata": {},
   "outputs": [],
   "source": [
    "pca = PCA(n_components=2)\n",
    "\n",
    "k2_transformada = pca.fit_transform(k2_std)\n",
    "\n",
    "k2_transformada = pd.DataFrame(k2_transformada, columns = ['K1', 'K2'])"
   ]
  },
  {
   "cell_type": "markdown",
   "metadata": {},
   "source": [
    "* Se comprueba que la base de datos ahora solo contiene 2 features"
   ]
  },
  {
   "cell_type": "code",
   "execution_count": 6,
   "metadata": {},
   "outputs": [
    {
     "data": {
      "text/plain": [
       "(5000, 2)"
      ]
     },
     "execution_count": 6,
     "metadata": {},
     "output_type": "execute_result"
    }
   ],
   "source": [
    "k2_transformada.shape"
   ]
  },
  {
   "cell_type": "markdown",
   "metadata": {},
   "source": [
    "> Representacion grafica de la base de datos"
   ]
  },
  {
   "cell_type": "code",
   "execution_count": 7,
   "metadata": {},
   "outputs": [
    {
     "data": {
      "image/png": "[encoded data removed]",
      "text/plain": [
       "<Figure size 432x288 with 1 Axes>"
      ]
     },
     "metadata": {
      "needs_background": "light"
     },
     "output_type": "display_data"
    }
   ],
   "source": [
    "plt.scatter(k2_transformada.K1, k2_transformada.K2, marker=\".\")\n",
    "plt.ylabel('K2')\n",
    "plt.xlabel('K1')\n",
    "plt.legend([\"Dataset km2\"])\n",
    "plt.show()"
   ]
  },
  {
   "cell_type": "markdown",
   "metadata": {},
   "source": [
    "* Se procede a analizar los datos transformados con reduccion de dimensionalidad para el metodo de **mezcla de gaussianas**"
   ]
  },
  {
   "cell_type": "code",
   "execution_count": 8,
   "metadata": {},
   "outputs": [],
   "source": [
    "import seaborn as sns\n",
    "from sklearn.mixture import GaussianMixture\n",
    "\n",
    "from sklearn import metrics\n",
    "import scipy.stats"
   ]
  },
  {
   "cell_type": "markdown",
   "metadata": {},
   "source": [
    "* Se realiza un analisis Para determinar el número de gaussianas adecuadas usando los indicadores de ajuste el AIC (Akaike’s Information Criteria) y BIC (Bayesian Information Criteria)."
   ]
  },
  {
   "cell_type": "code",
   "execution_count": 19,
   "metadata": {},
   "outputs": [],
   "source": [
    "n_componentes = np.arange(1,10)\n",
    "modelos = [GaussianMixture(n, covariance_type = 'full', random_state = 0).fit(k2_transformada)\n",
    "           for n in n_componentes]"
   ]
  },
  {
   "cell_type": "markdown",
   "metadata": {},
   "source": [
    "* La representacion grafica de este analisis es la siguiente:"
   ]
  },
  {
   "cell_type": "code",
   "execution_count": 10,
   "metadata": {},
   "outputs": [
    {
     "data": {
      "image/png": "[encoded data removed]",
      "text/plain": [
       "<Figure size 432x288 with 1 Axes>"
      ]
     },
     "metadata": {
      "needs_background": "light"
     },
     "output_type": "display_data"
    }
   ],
   "source": [
    "plt.plot(n_componentes, [m.bic(k2_transformada) for m in modelos], label = 'BIC')\n",
    "plt.plot(n_componentes, [m.aic(k2_transformada) for m in modelos], label = 'AIC')\n",
    "plt.legend(loc='best')\n",
    "plt.xlabel('n_componentes')\n",
    "plt.show()"
   ]
  },
  {
   "cell_type": "markdown",
   "metadata": {},
   "source": [
    "> Del grafico anterior se puede observar que la mayor caida en los indicadores BIC y AIC es a partir de los 4 componentes, lo que conlleva a una conclusion similiar a la obtenida por KNN por el criterio del codo, en la que la cantidad de cluster para en analisis es de n=4."
   ]
  },
  {
   "cell_type": "markdown",
   "metadata": {},
   "source": [
    "* las \"labels\" descritas por el modelo se calculan bajo el metodo \"GaussianMixture\" con n_components=4 a los datos transformados segun la reduccion de dimensionalidad."
   ]
  },
  {
   "cell_type": "code",
   "execution_count": 11,
   "metadata": {},
   "outputs": [
    {
     "data": {
      "text/plain": [
       "array([1, 0, 2, ..., 1, 1, 1], dtype=int64)"
      ]
     },
     "execution_count": 11,
     "metadata": {},
     "output_type": "execute_result"
    }
   ],
   "source": [
    "gmm = GaussianMixture(n_components=4).fit(k2_transformada)\n",
    "\n",
    "labels = gmm.predict(k2_transformada)\n",
    "labels"
   ]
  },
  {
   "cell_type": "markdown",
   "metadata": {},
   "source": [
    "* Los centroides para el metodo GMM son los siguientes:\n",
    "  + Se muestra un array con 4 componentes correspondientes a los cluster establecidos segun los criterios BIC y AIC"
   ]
  },
  {
   "cell_type": "code",
   "execution_count": 22,
   "metadata": {},
   "outputs": [
    {
     "data": {
      "text/plain": [
       "array([[7.48619697, 1.23256836],\n",
       "       [1.23256836, 2.67372266],\n",
       "       [0.16913111, 0.01861831],\n",
       "       [0.01861831, 0.19734697]])"
      ]
     },
     "execution_count": 22,
     "metadata": {},
     "output_type": "execute_result"
    }
   ],
   "source": [
    "centers = np.empty(shape=(gmm.n_components, k2_transformada.shape[1]))\n",
    "centers"
   ]
  },
  {
   "cell_type": "markdown",
   "metadata": {},
   "source": [
    "* Los centroides calculados bajo el metodo KNN son :\n",
    "    array([[-0.9705384 , -0.13405017],\n",
    "       [ 1.86206921, -0.98067104],\n",
    "       [ 1.58946626,  3.77383964],\n",
    "       [12.8896012 , -2.04756778]])\n",
    "\n",
    "* Los centroides no corresponden respectivamente a los clusters indicados, sin embargo, una comparacion visual indica que el cluster mas alejado (en este caso representado en el grafico por los puntos rojos) son relativamente similares. Esto es considerando que el metodo GMM toma los clusters encontrando las medias y matrices de covarianza de cada subpoblación y el metodo KNN tomando la distancia intracluster para la subpoblacion es de tener en cuenta que estos centros sean similares, pero no iguales, debido a GMM siendo un metodo no determinista.\n",
    "* La forma más fácil de sobrellevar el metodo es ejecutar el procedimiento de ajuste varias veces y considerar el valor medio y la desviación estándar para cada configuración."
   ]
  },
  {
   "cell_type": "code",
   "execution_count": 18,
   "metadata": {},
   "outputs": [
    {
     "data": {
      "image/png": "[encoded data removed]",
      "text/plain": [
       "<Figure size 504x360 with 1 Axes>"
      ]
     },
     "metadata": {
      "needs_background": "light"
     },
     "output_type": "display_data"
    }
   ],
   "source": [
    "fig = plt.figure(figsize=(7,5))\n",
    "\n",
    "colores = [\"g\", \"c\", \"b\", \"r\"]\n",
    "for i in range(0,4):\n",
    "    plt.plot(k2_transformada[\"K1\"][labels == i], k2_transformada[\"K2\"][labels == i], colores[i], label = \"Cluster\"+str(i), marker='.', linestyle='none')\n",
    "\n",
    "plt.ylabel(\"K2\")\n",
    "plt.xlabel(\"K1\")\n",
    "plt.legend()\n",
    "plt.show()"
   ]
  },
  {
   "cell_type": "markdown",
   "metadata": {},
   "source": [
    "* La representacion grafica de la asignacion de clusters para esta poblacion es similar a la tomado por el metodo KNN, como se puede observar al comparar las graficas."
   ]
  }
 ],
 "metadata": {
  "interpreter": {
   "hash": "7c239c9e803aa87c3815454c42da92f1af28c0cbd1b711d488a058e58bc0122e"
  },
  "kernelspec": {
   "display_name": "Python 3.9.10 64-bit",
   "language": "python",
   "name": "python3"
  },
  "language_info": {
   "codemirror_mode": {
    "name": "ipython",
    "version": 3
   },
   "file_extension": ".py",
   "mimetype": "text/x-python",
   "name": "python",
   "nbconvert_exporter": "python",
   "pygments_lexer": "ipython3",
   "version": "3.9.10"
  },
  "orig_nbformat": 4
 },
 "nbformat": 4,
 "nbformat_minor": 2
}
